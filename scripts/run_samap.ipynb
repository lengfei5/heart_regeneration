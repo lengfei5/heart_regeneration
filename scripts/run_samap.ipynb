{
 "cells": [
  {
   "cell_type": "code",
   "execution_count": 1,
   "id": "26e20c3a-cdf9-4569-a29b-069a8e1e2076",
   "metadata": {},
   "outputs": [
    {
     "name": "stderr",
     "output_type": "stream",
     "text": [
      "/groups/tanaka/People/current/jiwang/local/anaconda3/envs/SAMap/lib/python3.9/site-packages/tqdm/auto.py:21: TqdmWarning: IProgress not found. Please update jupyter and ipywidgets. See https://ipywidgets.readthedocs.io/en/stable/user_install.html\n",
      "  from .autonotebook import tqdm as notebook_tqdm\n"
     ]
    }
   ],
   "source": [
    "from samap.mapping import SAMAP\n",
    "from samap.analysis import (get_mapping_scores, GenePairFinder,\n",
    "                            sankey_plot, chord_plot, CellTypeTriangles, \n",
    "                            ParalogSubstitutions, FunctionalEnrichment,\n",
    "                            convert_eggnog_to_homologs, GeneTriangles)\n",
    "\n",
    "from samalg import SAM\n",
    "import pandas as pd\n",
    "\n",
    "#from samap.mapping import SAMAP\n",
    "#from samap.analysis import get_mapping_scores, GenePairFinder\n",
    "#from samalg import SAM\n",
    "from samap.utils import save_samap, load_samap\n",
    "import pandas as pd\n",
    "import csv\n",
    "import scanpy as sc\n",
    "import numpy as np\n",
    "import scrabbit\n",
    "import os"
   ]
  },
  {
   "cell_type": "code",
   "execution_count": 2,
   "id": "1bf957df-be48-4b83-ad19-e2e4813d1fd2",
   "metadata": {},
   "outputs": [],
   "source": [
    "sc.set_figure_params(dpi_save=600)\n",
    "sc.settings.figdir = \"/groups/tanaka/People/current/jiwang/projects/heart_regeneration/results/cross_species_20240220/samap_out/\"\n",
    "save_dir = \"/groups/tanaka/People/current/jiwang/projects/heart_regeneration/results/cross_species_20240220/samap_out/\"\n",
    "data_dir = \"/groups/tanaka/People/current/jiwang/src/samap_directory/example_data/\""
   ]
  },
  {
   "cell_type": "code",
   "execution_count": null,
   "id": "50d5bf47-825e-4a05-971c-bea652e8d51a",
   "metadata": {},
   "outputs": [],
   "source": []
  },
  {
   "cell_type": "code",
   "execution_count": 8,
   "id": "c1ee3906-2e9a-4a81-a7d3-a5f2df321d8d",
   "metadata": {},
   "outputs": [
    {
     "data": {
      "text/html": [
       "<div>\n",
       "<style scoped>\n",
       "    .dataframe tbody tr th:only-of-type {\n",
       "        vertical-align: middle;\n",
       "    }\n",
       "\n",
       "    .dataframe tbody tr th {\n",
       "        vertical-align: top;\n",
       "    }\n",
       "\n",
       "    .dataframe thead th {\n",
       "        text-align: right;\n",
       "    }\n",
       "</style>\n",
       "<table border=\"1\" class=\"dataframe\">\n",
       "  <thead>\n",
       "    <tr style=\"text-align: right;\">\n",
       "      <th></th>\n",
       "      <th>1</th>\n",
       "      <th>2</th>\n",
       "      <th>3</th>\n",
       "      <th>4</th>\n",
       "      <th>5</th>\n",
       "      <th>6</th>\n",
       "      <th>7</th>\n",
       "      <th>8</th>\n",
       "      <th>9</th>\n",
       "      <th>10</th>\n",
       "      <th>11</th>\n",
       "    </tr>\n",
       "    <tr>\n",
       "      <th>0</th>\n",
       "      <th></th>\n",
       "      <th></th>\n",
       "      <th></th>\n",
       "      <th></th>\n",
       "      <th></th>\n",
       "      <th></th>\n",
       "      <th></th>\n",
       "      <th></th>\n",
       "      <th></th>\n",
       "      <th></th>\n",
       "      <th></th>\n",
       "    </tr>\n",
       "  </thead>\n",
       "  <tbody>\n",
       "    <tr>\n",
       "      <th>dd_Smed_v4_10001_0_1</th>\n",
       "      <td>Smp_042920</td>\n",
       "      <td>30.594</td>\n",
       "      <td>219</td>\n",
       "      <td>144</td>\n",
       "      <td>4</td>\n",
       "      <td>167</td>\n",
       "      <td>814</td>\n",
       "      <td>13</td>\n",
       "      <td>226</td>\n",
       "      <td>4.210000e-30</td>\n",
       "      <td>112.0</td>\n",
       "    </tr>\n",
       "    <tr>\n",
       "      <th>dd_Smed_v4_10002_0_1</th>\n",
       "      <td>Smp_131400</td>\n",
       "      <td>30.709</td>\n",
       "      <td>127</td>\n",
       "      <td>79</td>\n",
       "      <td>4</td>\n",
       "      <td>190</td>\n",
       "      <td>555</td>\n",
       "      <td>328</td>\n",
       "      <td>450</td>\n",
       "      <td>3.400000e-11</td>\n",
       "      <td>62.4</td>\n",
       "    </tr>\n",
       "    <tr>\n",
       "      <th>dd_Smed_v4_10003_0_1</th>\n",
       "      <td>Smp_327560</td>\n",
       "      <td>41.079</td>\n",
       "      <td>241</td>\n",
       "      <td>126</td>\n",
       "      <td>5</td>\n",
       "      <td>112</td>\n",
       "      <td>798</td>\n",
       "      <td>22</td>\n",
       "      <td>258</td>\n",
       "      <td>1.610000e-43</td>\n",
       "      <td>162.0</td>\n",
       "    </tr>\n",
       "    <tr>\n",
       "      <th>dd_Smed_v4_10003_0_1</th>\n",
       "      <td>Smp_172110</td>\n",
       "      <td>36.567</td>\n",
       "      <td>134</td>\n",
       "      <td>72</td>\n",
       "      <td>5</td>\n",
       "      <td>109</td>\n",
       "      <td>474</td>\n",
       "      <td>147</td>\n",
       "      <td>279</td>\n",
       "      <td>1.080000e-17</td>\n",
       "      <td>84.3</td>\n",
       "    </tr>\n",
       "    <tr>\n",
       "      <th>dd_Smed_v4_10003_0_1</th>\n",
       "      <td>Smp_056760</td>\n",
       "      <td>30.075</td>\n",
       "      <td>133</td>\n",
       "      <td>90</td>\n",
       "      <td>2</td>\n",
       "      <td>163</td>\n",
       "      <td>555</td>\n",
       "      <td>44</td>\n",
       "      <td>175</td>\n",
       "      <td>1.140000e-13</td>\n",
       "      <td>72.4</td>\n",
       "    </tr>\n",
       "  </tbody>\n",
       "</table>\n",
       "</div>"
      ],
      "text/plain": [
       "                              1       2    3    4   5    6    7    8    9   \\\n",
       "0                                                                            \n",
       "dd_Smed_v4_10001_0_1  Smp_042920  30.594  219  144   4  167  814   13  226   \n",
       "dd_Smed_v4_10002_0_1  Smp_131400  30.709  127   79   4  190  555  328  450   \n",
       "dd_Smed_v4_10003_0_1  Smp_327560  41.079  241  126   5  112  798   22  258   \n",
       "dd_Smed_v4_10003_0_1  Smp_172110  36.567  134   72   5  109  474  147  279   \n",
       "dd_Smed_v4_10003_0_1  Smp_056760  30.075  133   90   2  163  555   44  175   \n",
       "\n",
       "                                10     11  \n",
       "0                                          \n",
       "dd_Smed_v4_10001_0_1  4.210000e-30  112.0  \n",
       "dd_Smed_v4_10002_0_1  3.400000e-11   62.4  \n",
       "dd_Smed_v4_10003_0_1  1.610000e-43  162.0  \n",
       "dd_Smed_v4_10003_0_1  1.080000e-17   84.3  \n",
       "dd_Smed_v4_10003_0_1  1.140000e-13   72.4  "
      ]
     },
     "execution_count": 8,
     "metadata": {},
     "output_type": "execute_result"
    }
   ],
   "source": [
    "A=pd.read_csv(os.path.join(data_dir, 'maps/plsc/pl_to_sc.txt'),sep='\\t',index_col=0,header=None)\n",
    "B=pd.read_csv(os.path.join(data_dir, 'maps/plsc/sc_to_pl.txt'),sep='\\t',index_col=0,header=None)\n",
    "A.head()"
   ]
  },
  {
   "cell_type": "code",
   "execution_count": 9,
   "id": "c1712272-a1f8-4ee9-88f7-de06bcf4da85",
   "metadata": {},
   "outputs": [
    {
     "data": {
      "text/html": [
       "<div>\n",
       "<style scoped>\n",
       "    .dataframe tbody tr th:only-of-type {\n",
       "        vertical-align: middle;\n",
       "    }\n",
       "\n",
       "    .dataframe tbody tr th {\n",
       "        vertical-align: top;\n",
       "    }\n",
       "\n",
       "    .dataframe thead th {\n",
       "        text-align: right;\n",
       "    }\n",
       "</style>\n",
       "<table border=\"1\" class=\"dataframe\">\n",
       "  <thead>\n",
       "    <tr style=\"text-align: right;\">\n",
       "      <th></th>\n",
       "      <th>1</th>\n",
       "      <th>2</th>\n",
       "      <th>3</th>\n",
       "      <th>4</th>\n",
       "      <th>5</th>\n",
       "      <th>6</th>\n",
       "      <th>7</th>\n",
       "      <th>8</th>\n",
       "      <th>9</th>\n",
       "      <th>10</th>\n",
       "      <th>11</th>\n",
       "    </tr>\n",
       "    <tr>\n",
       "      <th>0</th>\n",
       "      <th></th>\n",
       "      <th></th>\n",
       "      <th></th>\n",
       "      <th></th>\n",
       "      <th></th>\n",
       "      <th></th>\n",
       "      <th></th>\n",
       "      <th></th>\n",
       "      <th></th>\n",
       "      <th></th>\n",
       "      <th></th>\n",
       "    </tr>\n",
       "  </thead>\n",
       "  <tbody>\n",
       "    <tr>\n",
       "      <th>Smp_000040</th>\n",
       "      <td>dd_Smed_v4_8806_0_1</td>\n",
       "      <td>59.426</td>\n",
       "      <td>488</td>\n",
       "      <td>187</td>\n",
       "      <td>6</td>\n",
       "      <td>17</td>\n",
       "      <td>502</td>\n",
       "      <td>45</td>\n",
       "      <td>1481</td>\n",
       "      <td>1.030000e-163</td>\n",
       "      <td>478.0</td>\n",
       "    </tr>\n",
       "    <tr>\n",
       "      <th>Smp_000040</th>\n",
       "      <td>dd_Smed_v4_8136_0_1</td>\n",
       "      <td>51.883</td>\n",
       "      <td>478</td>\n",
       "      <td>213</td>\n",
       "      <td>5</td>\n",
       "      <td>20</td>\n",
       "      <td>497</td>\n",
       "      <td>25</td>\n",
       "      <td>1407</td>\n",
       "      <td>1.780000e-134</td>\n",
       "      <td>417.0</td>\n",
       "    </tr>\n",
       "    <tr>\n",
       "      <th>Smp_000040</th>\n",
       "      <td>dd_Smed_v4_6575_0_1</td>\n",
       "      <td>53.396</td>\n",
       "      <td>427</td>\n",
       "      <td>187</td>\n",
       "      <td>4</td>\n",
       "      <td>74</td>\n",
       "      <td>493</td>\n",
       "      <td>238</td>\n",
       "      <td>1503</td>\n",
       "      <td>6.790000e-114</td>\n",
       "      <td>353.0</td>\n",
       "    </tr>\n",
       "    <tr>\n",
       "      <th>Smp_000040</th>\n",
       "      <td>dd_Smed_v4_6449_0_1</td>\n",
       "      <td>49.727</td>\n",
       "      <td>366</td>\n",
       "      <td>161</td>\n",
       "      <td>5</td>\n",
       "      <td>91</td>\n",
       "      <td>435</td>\n",
       "      <td>239</td>\n",
       "      <td>1330</td>\n",
       "      <td>9.440000e-90</td>\n",
       "      <td>292.0</td>\n",
       "    </tr>\n",
       "    <tr>\n",
       "      <th>Smp_000040</th>\n",
       "      <td>dd_Smed_v4_6239_0_1</td>\n",
       "      <td>37.403</td>\n",
       "      <td>516</td>\n",
       "      <td>280</td>\n",
       "      <td>8</td>\n",
       "      <td>19</td>\n",
       "      <td>495</td>\n",
       "      <td>80</td>\n",
       "      <td>1615</td>\n",
       "      <td>1.120000e-84</td>\n",
       "      <td>276.0</td>\n",
       "    </tr>\n",
       "  </tbody>\n",
       "</table>\n",
       "</div>"
      ],
      "text/plain": [
       "                             1       2    3    4   5   6    7    8     9   \\\n",
       "0                                                                           \n",
       "Smp_000040  dd_Smed_v4_8806_0_1  59.426  488  187   6  17  502   45  1481   \n",
       "Smp_000040  dd_Smed_v4_8136_0_1  51.883  478  213   5  20  497   25  1407   \n",
       "Smp_000040  dd_Smed_v4_6575_0_1  53.396  427  187   4  74  493  238  1503   \n",
       "Smp_000040  dd_Smed_v4_6449_0_1  49.727  366  161   5  91  435  239  1330   \n",
       "Smp_000040  dd_Smed_v4_6239_0_1  37.403  516  280   8  19  495   80  1615   \n",
       "\n",
       "                       10     11  \n",
       "0                                 \n",
       "Smp_000040  1.030000e-163  478.0  \n",
       "Smp_000040  1.780000e-134  417.0  \n",
       "Smp_000040  6.790000e-114  353.0  \n",
       "Smp_000040   9.440000e-90  292.0  \n",
       "Smp_000040   1.120000e-84  276.0  "
      ]
     },
     "execution_count": 9,
     "metadata": {},
     "output_type": "execute_result"
    }
   ],
   "source": [
    "B.head()"
   ]
  },
  {
   "cell_type": "code",
   "execution_count": 3,
   "id": "1750d5a2-eb3d-4f30-a0fd-1a60f5820987",
   "metadata": {},
   "outputs": [],
   "source": [
    "#from samalg import SAM #import SAM\n",
    "sam=SAM() #initialize SAM object"
   ]
  },
  {
   "cell_type": "code",
   "execution_count": null,
   "id": "cde546dc-3e2b-4d6c-a6bf-a31bdd53e211",
   "metadata": {},
   "outputs": [],
   "source": [
    "sam.load_data('/path/to/h5ad_file.h5ad') #load data from a h5ad file\n",
    "sam.preprocess_data() # log transforms and filters the data\n",
    "sam.run()\n",
    "sam.scatter()"
   ]
  },
  {
   "cell_type": "code",
   "execution_count": 10,
   "id": "e433a231-2cec-4fa9-80a7-21d78675e8d8",
   "metadata": {},
   "outputs": [],
   "source": [
    "fn1 = os.path.join(data_dir, 'planarian.h5ad')\n",
    "fn2 = os.path.join(data_dir, 'schistosome.h5ad')\n",
    "fn3 = os.path.join(data_dir, 'hydra.h5ad')"
   ]
  },
  {
   "cell_type": "code",
   "execution_count": 11,
   "id": "539d486f-7a09-401c-8086-0c3c6663a555",
   "metadata": {},
   "outputs": [],
   "source": [
    "filenames = {'pl':fn1,'sc':fn2,'hy':fn3}"
   ]
  },
  {
   "cell_type": "code",
   "execution_count": 12,
   "id": "8e218fd2-efe4-49c6-b9c9-8f3e8baecce3",
   "metadata": {},
   "outputs": [],
   "source": [
    "sam1=SAM()\n",
    "sam1.load_data(fn1)\n",
    "\n",
    "sam2=SAM()\n",
    "sam2.load_data(fn2)\n",
    "\n",
    "sam3=SAM()\n",
    "sam3.load_data(fn3)"
   ]
  },
  {
   "cell_type": "code",
   "execution_count": 14,
   "id": "e490dbf9-b447-4a20-aaf5-e95a442df59c",
   "metadata": {},
   "outputs": [
    {
     "data": {
      "text/plain": [
       "<samalg.SAM at 0x2afd412824c0>"
      ]
     },
     "execution_count": 14,
     "metadata": {},
     "output_type": "execute_result"
    }
   ],
   "source": [
    "sam1"
   ]
  },
  {
   "cell_type": "code",
   "execution_count": 13,
   "id": "37daabe1-e9fe-47a0-940a-d3f724c145d3",
   "metadata": {},
   "outputs": [
    {
     "name": "stdout",
     "output_type": "stream",
     "text": [
      "Not updating the manifold...\n",
      "Not updating the manifold...\n",
      "Not updating the manifold...\n",
      "14355 `pl` gene symbols match between the datasets and the BLAST graph.\n",
      "7605 `sc` gene symbols match between the datasets and the BLAST graph.\n",
      "12637 `hy` gene symbols match between the datasets and the BLAST graph.\n"
     ]
    }
   ],
   "source": [
    "# The BLAST alignment step of the SAMap pipeline was performed using CDS sequences with transcript annotations. \n",
    "# Here we relate the Ensembl transcript IDs with gene IDs present in the anndata object. This is provided to SAMAP in the names parameter.\n",
    "# Mouse\n",
    "#m_ensembl = pd.read_csv(\"data-in/m_transcript_data.tsv\",sep=\"\\t\")\n",
    "#m_genes = pd.read_csv(\"data-in/m_genes.tsv\",sep=\"\\t\")\n",
    "#m_names = [(y,x) for x in m_genes[\"x\"] for y in m_ensembl.loc[m_ensembl[\"ensembl_gene_id\"]==x,\"ensembl_transcript_id_version\"]]\n",
    "#sm = SAMAP(r_sam, m_sam, \"ra\", \"mo\", f_maps=base_path + \"integration/SAMap/maps/\", names1=r_names, names2=mext_names, save_processed=False)\n",
    "\n",
    "sams = {'pl':sam1,'sc':sam2,'hy':sam3}\n",
    "sm = SAMAP(\n",
    "        sams,\n",
    "        f_maps = os.path.join(data_dir, 'maps/'),\n",
    "    )\n"
   ]
  },
  {
   "cell_type": "code",
   "execution_count": 15,
   "id": "33022880-bdf6-43e2-bab2-ac48524dcb42",
   "metadata": {},
   "outputs": [
    {
     "name": "stdout",
     "output_type": "stream",
     "text": [
      "Prepping datasets for translation.\n",
      "Translating feature spaces pairwise.\n",
      "Projecting data into joint latent space. 5.633130788803101\n",
      "Correcting data with means. 8.205063819885254\n",
      "Expanding neighbourhoods of species pl...\n",
      "Expanding neighbourhoods of species sc...\n",
      "Expanding neighbourhoods of species hy...\n",
      "Indegree coarsening\n",
      "0/1 (0, 3124)\n",
      "Rescaling edge weights by expression correlations.\n",
      "Concatenating SAM objects...\n",
      "Iteration 1 complete.\n",
      "Alignment scores:\n",
      "          hy        pl        sc\n",
      "hy  0.000000  0.391866  0.383083\n",
      "pl  0.445964  0.000000  0.601843\n",
      "sc  0.455304  0.639204  0.000000\n",
      "Calculating gene-gene correlations in the homology graph...\n",
      "Prepping datasets for translation.\n",
      "Translating feature spaces pairwise.\n",
      "Projecting data into joint latent space. 5.228547096252441\n",
      "Correcting data with means. 7.658292770385742\n",
      "Expanding neighbourhoods of species pl...\n",
      "Expanding neighbourhoods of species sc...\n",
      "Expanding neighbourhoods of species hy...\n",
      "Indegree coarsening\n",
      "0/1 (0, 3124)\n",
      "Rescaling edge weights by expression correlations.\n",
      "Concatenating SAM objects...\n",
      "Iteration 2 complete.\n",
      "Alignment scores:\n",
      "          hy        pl        sc\n",
      "hy  0.000000  0.476422  0.446773\n",
      "pl  0.548356  0.000000  0.669509\n",
      "sc  0.533320  0.681822  0.000000\n",
      "Calculating gene-gene correlations in the homology graph...\n",
      "Prepping datasets for translation.\n",
      "Translating feature spaces pairwise.\n",
      "Projecting data into joint latent space. 5.007094860076904\n",
      "Correcting data with means. 7.041001319885254\n",
      "Expanding neighbourhoods of species pl...\n",
      "Expanding neighbourhoods of species sc...\n",
      "Expanding neighbourhoods of species hy...\n",
      "Indegree coarsening\n",
      "0/1 (0, 3124)\n",
      "Rescaling edge weights by expression correlations.\n",
      "Concatenating SAM objects...\n",
      "Iteration 3 complete.\n",
      "Alignment scores:\n",
      "          hy        pl        sc\n",
      "hy  0.000000  0.493558  0.472923\n",
      "pl  0.564540  0.000000  0.674730\n",
      "sc  0.546016  0.685277  0.000000\n",
      "Running UMAP on the stitched manifolds.\n",
      "Elapsed time: 2.7180087765057883 minutes.\n"
     ]
    }
   ],
   "source": [
    "sm.run(pairwise=True)\n",
    "samap = sm.samap # SAM object with three species stitched together\n",
    "#sm_out = sm.run()"
   ]
  },
  {
   "cell_type": "code",
   "execution_count": 16,
   "id": "d09ec070-7f63-40b9-84e5-eea9a87e7cbb",
   "metadata": {},
   "outputs": [
    {
     "data": {
      "text/plain": [
       "index\n",
       "Cells_Trunk_TGAGCAGGTATT    Intestine: 6\n",
       "Cells_Trunk_CTCGAACCAAAG    Intestine: 6\n",
       "Cells_Trunk_ATCTAGTCGACN     Neoblast: 0\n",
       "Cells_Trunk_CTTTGAAAATCT    Epidermal: 2\n",
       "Cells_Trunk_CCTTTTAGAACT     Neoblast: 0\n",
       "Name: cluster, dtype: category\n",
       "Categories (42, object): ['Cathepsin+ cells: 4', 'Cathepsin+ cells: 10', 'Cathepsin+ cells: 15', 'Cathepsin+ cells: 17', ..., 'Pharynx: 37', 'Protonephridia: 26', 'Protonephridia: 29', 'Protonephridia: 40']"
      ]
     },
     "execution_count": 16,
     "metadata": {},
     "output_type": "execute_result"
    }
   ],
   "source": [
    "sm.sams['pl'].adata.obs['cluster'].head()"
   ]
  },
  {
   "cell_type": "code",
   "execution_count": 17,
   "id": "d286661b-8388-402a-9b96-d1a53484fc0f",
   "metadata": {},
   "outputs": [
    {
     "data": {
      "text/plain": [
       "AnnData object with n_obs × n_vars = 1049 × 25937\n",
       "    obs: 'tissue', 'subcluster', 'cluster', 'leiden_clusters', 'tissue_smedwi'\n",
       "    var: 'mask_genes', 'means', 'variances', 'weights', 'spatial_dispersions', 'mean_correction'\n",
       "    uns: 'path_to_file', 'preprocess_args', 'ranked_genes', 'run_args', 'dimred_indices'\n",
       "    obsm: 'X_pca', 'X_umap', 'X_processed', 'X_umap_samap'\n",
       "    varm: 'PCs', 'PCs_SAMap'\n",
       "    layers: 'X_disp'\n",
       "    obsp: 'connectivities', 'distances', 'nnm'"
      ]
     },
     "execution_count": 17,
     "metadata": {},
     "output_type": "execute_result"
    }
   ],
   "source": [
    "sm.sams['pl'].adata"
   ]
  },
  {
   "cell_type": "code",
   "execution_count": 19,
   "id": "2eb60a56-3604-4287-8faa-7079a890d16a",
   "metadata": {},
   "outputs": [
    {
     "name": "stdout",
     "output_type": "stream",
     "text": [
      "Index(['pl_dd_Smed_v4_10001_0_1', 'pl_dd_Smed_v4_100026_0_1',\n",
      "       'pl_dd_Smed_v4_10002_0_1', 'pl_dd_Smed_v4_100037_0_1',\n",
      "       'pl_dd_Smed_v4_10003_0_1', 'pl_dd_Smed_v4_100044_0_1',\n",
      "       'pl_dd_Smed_v4_100048_0_1', 'pl_dd_Smed_v4_10004_0_1',\n",
      "       'pl_dd_Smed_v4_10005_0_1', 'pl_dd_Smed_v4_100062_0_1'],\n",
      "      dtype='object')\n"
     ]
    }
   ],
   "source": [
    "print(sm.sams['pl'].adata.var_names[:10])"
   ]
  },
  {
   "cell_type": "code",
   "execution_count": 20,
   "id": "d20bde71-181d-4e2a-86aa-442580420b59",
   "metadata": {},
   "outputs": [
    {
     "data": {
      "text/plain": [
       "index\n",
       "03-MA_GCTAAAGCCACN    i_mgl\n",
       "03-MA_CCCTATCCTGGG    i_mgl\n",
       "03-MA_TGCAGTCCTGCC    i_mgl\n",
       "03-MA_GCCCTGAAACCA    i_mgl\n",
       "03-FM_AGGTTGGTCTTA    i_mgl\n",
       "Name: Cluster, dtype: category\n",
       "Categories (42, object): ['ecEp_SC2', 'ecEp_SC3', 'ecEp_bat1(mp)', 'ecEp_bat2(mp)', ..., 'i_smgc2', 'i_zmg1', 'i_zmg2', 'nan']"
      ]
     },
     "execution_count": 20,
     "metadata": {},
     "output_type": "execute_result"
    }
   ],
   "source": [
    "sm.sams['hy'].adata.obs['Cluster'].head()"
   ]
  },
  {
   "cell_type": "code",
   "execution_count": 21,
   "id": "dc447049-4bf2-4afe-9a49-5a71fc75340f",
   "metadata": {},
   "outputs": [
    {
     "data": {
      "text/plain": [
       "index\n",
       "YX_1009901001_B20       Muscle\n",
       "YX_1009901001_B4     Cathepsin\n",
       "YX_1009901001_C23     Neoblast\n",
       "YX_1009901001_C8        Neural\n",
       "YX_1009901001_D2        Muscle\n",
       "Name: tissue, dtype: category\n",
       "Categories (11, object): ['Cathepsin', 'Flame cells', 'Gland', 'Intestine', ..., 'Neural_KK7', 'Parenchymal', 'Tegument', 'Tegument_prog']"
      ]
     },
     "execution_count": 21,
     "metadata": {},
     "output_type": "execute_result"
    }
   ],
   "source": [
    "sm.sams['sc'].adata.obs['tissue'].head()"
   ]
  },
  {
   "cell_type": "code",
   "execution_count": 25,
   "id": "a654cf0b-fa12-4362-9bc5-5a16e041addf",
   "metadata": {},
   "outputs": [
    {
     "data": {
      "text/plain": [
       "AnnData object with n_obs × n_vars = 1071 × 10162\n",
       "    obs: 'leiden_clusters', 'tissue', 'cluster_t', 'cluster_uncertainty'\n",
       "    var: 'mask_genes', 'means', 'variances', 'weights', 'spatial_dispersions', 'mean_correction'\n",
       "    uns: 'path_to_file', 'preprocess_args', 'ranked_genes', 'run_args', 'dimred_indices'\n",
       "    obsm: 'X_pca', 'X_umap', 'X_processed', 'X_umap_samap'\n",
       "    varm: 'PCs', 'PCs_SAMap'\n",
       "    layers: 'X_disp'\n",
       "    obsp: 'connectivities', 'distances', 'nnm'"
      ]
     },
     "execution_count": 25,
     "metadata": {},
     "output_type": "execute_result"
    }
   ],
   "source": [
    "sm.sams['sc'].adata"
   ]
  },
  {
   "cell_type": "code",
   "execution_count": null,
   "id": "2cf38932-629d-4613-b3b6-cc6433928780",
   "metadata": {},
   "outputs": [],
   "source": [
    "# Export results\n",
    "#save_samap(sm, \"data-out/rm_sm_out.samap\")\n",
    "#save_samap(sm_out,\"data-out/rm_sm_out.samap\")\n",
    "#sm_out.adata.write(\"data-out/rm_sm_out.h5ad\")"
   ]
  },
  {
   "cell_type": "code",
   "execution_count": 28,
   "id": "f6959e87-86e5-483b-aeb2-c8329b1ecda3",
   "metadata": {},
   "outputs": [],
   "source": [
    "sm_out = sm.samap"
   ]
  },
  {
   "cell_type": "code",
   "execution_count": 29,
   "id": "3a6fcf2d-9da3-40d1-93be-1449b7beb6aa",
   "metadata": {},
   "outputs": [
    {
     "name": "stdout",
     "output_type": "stream",
     "text": [
      "WARNING: saving figure to file /groups/tanaka/People/current/jiwang/projects/heart_regeneration/results/cross_species_20240220/samap_out/umap_samap_species.pdf\n"
     ]
    },
    {
     "name": "stderr",
     "output_type": "stream",
     "text": [
      "/groups/tanaka/People/current/jiwang/local/anaconda3/envs/SAMap/lib/python3.9/site-packages/scanpy/plotting/_tools/scatterplots.py:1217: FutureWarning: The default value of 'ignore' for the `na_action` parameter in pandas.Categorical.map is deprecated and will be changed to 'None' in a future version. Please set na_action to the desired value to avoid seeing this warning\n",
      "  color_vector = pd.Categorical(values.map(color_map))\n",
      "/groups/tanaka/People/current/jiwang/local/anaconda3/envs/SAMap/lib/python3.9/site-packages/scanpy/plotting/_tools/scatterplots.py:392: UserWarning: No data for colormapping provided via 'c'. Parameters 'cmap' will be ignored\n",
      "  cax = scatter(\n"
     ]
    },
    {
     "data": {
      "image/png": "[encoded data removed]",
      "text/plain": [
       "<Figure size 320x320 with 1 Axes>"
      ]
     },
     "metadata": {
      "image/png": {
       "height": 296,
       "width": 333
      }
     },
     "output_type": "display_data"
    }
   ],
   "source": [
    "sc.pl.umap(sm_out.adata,color=[\"species\"], save=\"_samap_species.pdf\")\n",
    "#samap.adata.obs['species']"
   ]
  },
  {
   "cell_type": "code",
   "execution_count": 30,
   "id": "837c066c-eafc-433b-a452-b061fb79b510",
   "metadata": {},
   "outputs": [
    {
     "name": "stdout",
     "output_type": "stream",
     "text": [
      "WARNING: You’re trying to run this on 69475 dimensions of `.X`, if you really want this, set `use_rep='X'`.\n",
      "         Falling back to preprocessing with `sc.pp.pca` and default params.\n"
     ]
    },
    {
     "name": "stderr",
     "output_type": "stream",
     "text": [
      "/groups/tanaka/People/current/jiwang/local/anaconda3/envs/SAMap/lib/python3.9/site-packages/anndata/_core/anndata.py:402: FutureWarning: The dtype argument is deprecated and will be removed in late 2024.\n",
      "  warnings.warn(\n"
     ]
    }
   ],
   "source": [
    "#Recompute UMAP\n",
    "sc.pp.neighbors(sm_out.adata, n_neighbors=50)"
   ]
  },
  {
   "cell_type": "code",
   "execution_count": 31,
   "id": "a83a4958-8192-4be0-aba4-28853a257c1b",
   "metadata": {},
   "outputs": [],
   "source": [
    "sc.tl.umap(sm_out.adata,min_dist=0.5)"
   ]
  },
  {
   "cell_type": "code",
   "execution_count": 32,
   "id": "1ed7f233-b47e-4238-926d-5ff05f43e13d",
   "metadata": {},
   "outputs": [
    {
     "name": "stdout",
     "output_type": "stream",
     "text": [
      "WARNING: saving figure to file /groups/tanaka/People/current/jiwang/projects/heart_regeneration/results/cross_species_20240220/samap_out/umap_samap_species_min_dist_05.pdf\n"
     ]
    },
    {
     "name": "stderr",
     "output_type": "stream",
     "text": [
      "/groups/tanaka/People/current/jiwang/local/anaconda3/envs/SAMap/lib/python3.9/site-packages/scanpy/plotting/_tools/scatterplots.py:1217: FutureWarning: The default value of 'ignore' for the `na_action` parameter in pandas.Categorical.map is deprecated and will be changed to 'None' in a future version. Please set na_action to the desired value to avoid seeing this warning\n",
      "  color_vector = pd.Categorical(values.map(color_map))\n",
      "/groups/tanaka/People/current/jiwang/local/anaconda3/envs/SAMap/lib/python3.9/site-packages/scanpy/plotting/_tools/scatterplots.py:392: UserWarning: No data for colormapping provided via 'c'. Parameters 'cmap' will be ignored\n",
      "  cax = scatter(\n"
     ]
    },
    {
     "data": {
      "image/png": "[encoded data removed]",
      "text/plain": [
       "<Figure size 320x320 with 1 Axes>"
      ]
     },
     "metadata": {
      "image/png": {
       "height": 296,
       "width": 333
      }
     },
     "output_type": "display_data"
    }
   ],
   "source": [
    "sc.pl.umap(sm_out.adata,color=[\"species\"],save=\"_samap_species_min_dist_05.pdf\")"
   ]
  },
  {
   "cell_type": "code",
   "execution_count": null,
   "id": "dda661a8-5f3b-4fea-86ad-f3a71256623f",
   "metadata": {},
   "outputs": [],
   "source": [
    "# Querying gene mapping scores"
   ]
  },
  {
   "cell_type": "code",
   "execution_count": 33,
   "id": "d0fcb5ae-6657-48c7-90f4-f6d762b9d445",
   "metadata": {},
   "outputs": [
    {
     "data": {
      "text/plain": [
       "{'blast': sc_Smp_102690    116.0\n",
       " sc_Smp_179320    130.0\n",
       " sc_Smp_198380    110.0\n",
       " hy_t34367aep      73.5\n",
       " hy_t13960aep      70.3\n",
       " dtype: float64,\n",
       " 'correlation': sc_Smp_102690    0.219418\n",
       " sc_Smp_179320    0.872312\n",
       " sc_Smp_198380    0.270671\n",
       " hy_t34367aep     0.655387\n",
       " hy_t13960aep     0.601781\n",
       " dtype: float64}"
      ]
     },
     "execution_count": 33,
     "metadata": {},
     "output_type": "execute_result"
    }
   ],
   "source": [
    "sm.query_gene_pairs('pl_dd_Smed_v4_659_0_1')"
   ]
  },
  {
   "cell_type": "code",
   "execution_count": 34,
   "id": "467718f7-590a-49ba-8317-c10f295d3214",
   "metadata": {},
   "outputs": [
    {
     "data": {
      "text/plain": [
       "{'blast': 130.0, 'correlation': 0.8723122797541265}"
      ]
     },
     "execution_count": 34,
     "metadata": {},
     "output_type": "execute_result"
    }
   ],
   "source": [
    "sm.query_gene_pair('pl_dd_Smed_v4_659_0_1','Smp_179320')"
   ]
  },
  {
   "cell_type": "code",
   "execution_count": 35,
   "id": "9a4de0b0-aa55-4626-9ff0-fd16f5894f9a",
   "metadata": {},
   "outputs": [],
   "source": [
    "keys = {'pl':'cluster','hy':'Cluster','sc':'tissue'}\n",
    "D,MappingTable = get_mapping_scores(sm,keys,n_top = 0)"
   ]
  },
  {
   "cell_type": "code",
   "execution_count": 36,
   "id": "2ee4dd79-0d65-4b53-bff0-bcb138f8639c",
   "metadata": {},
   "outputs": [
    {
     "data": {
      "text/html": [
       "<div>\n",
       "<style scoped>\n",
       "    .dataframe tbody tr th:only-of-type {\n",
       "        vertical-align: middle;\n",
       "    }\n",
       "\n",
       "    .dataframe tbody tr th {\n",
       "        vertical-align: top;\n",
       "    }\n",
       "\n",
       "    .dataframe thead tr th {\n",
       "        text-align: left;\n",
       "    }\n",
       "</style>\n",
       "<table border=\"1\" class=\"dataframe\">\n",
       "  <thead>\n",
       "    <tr>\n",
       "      <th></th>\n",
       "      <th colspan=\"2\" halign=\"left\">sc_Muscle</th>\n",
       "      <th colspan=\"2\" halign=\"left\">hy_i_nc3</th>\n",
       "      <th colspan=\"2\" halign=\"left\">hy_i_nc7</th>\n",
       "      <th colspan=\"2\" halign=\"left\">hy_i_nc2</th>\n",
       "      <th colspan=\"2\" halign=\"left\">hy_i_nc6</th>\n",
       "      <th>...</th>\n",
       "      <th colspan=\"2\" halign=\"left\">pl_Neural: 21</th>\n",
       "      <th colspan=\"2\" halign=\"left\">pl_Neural: 20</th>\n",
       "      <th colspan=\"2\" halign=\"left\">pl_Neural: 18</th>\n",
       "      <th colspan=\"2\" halign=\"left\">pl_Neoblast: 5</th>\n",
       "      <th colspan=\"2\" halign=\"left\">hy_nan</th>\n",
       "    </tr>\n",
       "    <tr>\n",
       "      <th></th>\n",
       "      <th>Cluster</th>\n",
       "      <th>Alignment score</th>\n",
       "      <th>Cluster</th>\n",
       "      <th>Alignment score</th>\n",
       "      <th>Cluster</th>\n",
       "      <th>Alignment score</th>\n",
       "      <th>Cluster</th>\n",
       "      <th>Alignment score</th>\n",
       "      <th>Cluster</th>\n",
       "      <th>Alignment score</th>\n",
       "      <th>...</th>\n",
       "      <th>Cluster</th>\n",
       "      <th>Alignment score</th>\n",
       "      <th>Cluster</th>\n",
       "      <th>Alignment score</th>\n",
       "      <th>Cluster</th>\n",
       "      <th>Alignment score</th>\n",
       "      <th>Cluster</th>\n",
       "      <th>Alignment score</th>\n",
       "      <th>Cluster</th>\n",
       "      <th>Alignment score</th>\n",
       "    </tr>\n",
       "  </thead>\n",
       "  <tbody>\n",
       "    <tr>\n",
       "      <th>0</th>\n",
       "      <td>hy_i_nc3</td>\n",
       "      <td>0.000349</td>\n",
       "      <td>sc_Muscle</td>\n",
       "      <td>0.000349</td>\n",
       "      <td>sc_Muscle</td>\n",
       "      <td>0.000338</td>\n",
       "      <td>sc_Muscle</td>\n",
       "      <td>0.000309</td>\n",
       "      <td>sc_Muscle</td>\n",
       "      <td>0.000275</td>\n",
       "      <td>...</td>\n",
       "      <td>pl_Cathepsin+ cells: 10</td>\n",
       "      <td>0.0</td>\n",
       "      <td>pl_Cathepsin+ cells: 10</td>\n",
       "      <td>0.0</td>\n",
       "      <td>pl_Cathepsin+ cells: 10</td>\n",
       "      <td>0.0</td>\n",
       "      <td>pl_Cathepsin+ cells: 10</td>\n",
       "      <td>0.0</td>\n",
       "      <td>pl_Cathepsin+ cells: 10</td>\n",
       "      <td>0.0</td>\n",
       "    </tr>\n",
       "    <tr>\n",
       "      <th>1</th>\n",
       "      <td>hy_i_nc7</td>\n",
       "      <td>0.000338</td>\n",
       "      <td>pl_Cathepsin+ cells: 10</td>\n",
       "      <td>0.0</td>\n",
       "      <td>pl_Cathepsin+ cells: 10</td>\n",
       "      <td>0.0</td>\n",
       "      <td>pl_Cathepsin+ cells: 10</td>\n",
       "      <td>0.0</td>\n",
       "      <td>pl_Cathepsin+ cells: 10</td>\n",
       "      <td>0.0</td>\n",
       "      <td>...</td>\n",
       "      <td>hy_ecEp_nem2(id)</td>\n",
       "      <td>0.0</td>\n",
       "      <td>hy_ecEp_nem2(id)</td>\n",
       "      <td>0.0</td>\n",
       "      <td>hy_ecEp_nem2(id)</td>\n",
       "      <td>0.0</td>\n",
       "      <td>hy_ecEp_nem2(id)</td>\n",
       "      <td>0.0</td>\n",
       "      <td>hy_ecEp_nem2(id)</td>\n",
       "      <td>0.0</td>\n",
       "    </tr>\n",
       "    <tr>\n",
       "      <th>2</th>\n",
       "      <td>hy_i_nc2</td>\n",
       "      <td>0.000309</td>\n",
       "      <td>hy_ecEp_nem2(id)</td>\n",
       "      <td>0.0</td>\n",
       "      <td>hy_ecEp_nem2(id)</td>\n",
       "      <td>0.0</td>\n",
       "      <td>hy_ecEp_nem2(id)</td>\n",
       "      <td>0.0</td>\n",
       "      <td>hy_ecEp_nem2(id)</td>\n",
       "      <td>0.0</td>\n",
       "      <td>...</td>\n",
       "      <td>hy_enEp_tent(pd)</td>\n",
       "      <td>0.0</td>\n",
       "      <td>hy_enEp_tent(pd)</td>\n",
       "      <td>0.0</td>\n",
       "      <td>hy_enEp_tent(pd)</td>\n",
       "      <td>0.0</td>\n",
       "      <td>hy_enEp_tent(pd)</td>\n",
       "      <td>0.0</td>\n",
       "      <td>hy_enEp_tent(pd)</td>\n",
       "      <td>0.0</td>\n",
       "    </tr>\n",
       "    <tr>\n",
       "      <th>3</th>\n",
       "      <td>hy_i_nc6</td>\n",
       "      <td>0.000275</td>\n",
       "      <td>hy_enEp_tent(pd)</td>\n",
       "      <td>0.0</td>\n",
       "      <td>hy_enEp_tent(pd)</td>\n",
       "      <td>0.0</td>\n",
       "      <td>hy_enEp_tent(pd)</td>\n",
       "      <td>0.0</td>\n",
       "      <td>hy_enEp_tent(pd)</td>\n",
       "      <td>0.0</td>\n",
       "      <td>...</td>\n",
       "      <td>hy_enEp_tent</td>\n",
       "      <td>0.0</td>\n",
       "      <td>hy_enEp_tent</td>\n",
       "      <td>0.0</td>\n",
       "      <td>hy_enEp_tent</td>\n",
       "      <td>0.0</td>\n",
       "      <td>hy_enEp_tent</td>\n",
       "      <td>0.0</td>\n",
       "      <td>hy_enEp_tent</td>\n",
       "      <td>0.0</td>\n",
       "    </tr>\n",
       "    <tr>\n",
       "      <th>4</th>\n",
       "      <td>hy_i_nb4</td>\n",
       "      <td>0.00027</td>\n",
       "      <td>hy_enEp_tent</td>\n",
       "      <td>0.0</td>\n",
       "      <td>hy_enEp_tent</td>\n",
       "      <td>0.0</td>\n",
       "      <td>hy_enEp_tent</td>\n",
       "      <td>0.0</td>\n",
       "      <td>hy_enEp_tent</td>\n",
       "      <td>0.0</td>\n",
       "      <td>...</td>\n",
       "      <td>hy_enEp_nem2(pd)</td>\n",
       "      <td>0.0</td>\n",
       "      <td>hy_enEp_nem2(pd)</td>\n",
       "      <td>0.0</td>\n",
       "      <td>hy_enEp_nem2(pd)</td>\n",
       "      <td>0.0</td>\n",
       "      <td>hy_enEp_nem2(pd)</td>\n",
       "      <td>0.0</td>\n",
       "      <td>hy_enEp_nem2(pd)</td>\n",
       "      <td>0.0</td>\n",
       "    </tr>\n",
       "  </tbody>\n",
       "</table>\n",
       "<p>5 rows × 190 columns</p>\n",
       "</div>"
      ],
      "text/plain": [
       "  sc_Muscle                                 hy_i_nc3                  \\\n",
       "    Cluster Alignment score                  Cluster Alignment score   \n",
       "0  hy_i_nc3        0.000349                sc_Muscle        0.000349   \n",
       "1  hy_i_nc7        0.000338  pl_Cathepsin+ cells: 10             0.0   \n",
       "2  hy_i_nc2        0.000309         hy_ecEp_nem2(id)             0.0   \n",
       "3  hy_i_nc6        0.000275         hy_enEp_tent(pd)             0.0   \n",
       "4  hy_i_nb4         0.00027             hy_enEp_tent             0.0   \n",
       "\n",
       "                  hy_i_nc7                                 hy_i_nc2  \\\n",
       "                   Cluster Alignment score                  Cluster   \n",
       "0                sc_Muscle        0.000338                sc_Muscle   \n",
       "1  pl_Cathepsin+ cells: 10             0.0  pl_Cathepsin+ cells: 10   \n",
       "2         hy_ecEp_nem2(id)             0.0         hy_ecEp_nem2(id)   \n",
       "3         hy_enEp_tent(pd)             0.0         hy_enEp_tent(pd)   \n",
       "4             hy_enEp_tent             0.0             hy_enEp_tent   \n",
       "\n",
       "                                  hy_i_nc6                  ...  \\\n",
       "  Alignment score                  Cluster Alignment score  ...   \n",
       "0        0.000309                sc_Muscle        0.000275  ...   \n",
       "1             0.0  pl_Cathepsin+ cells: 10             0.0  ...   \n",
       "2             0.0         hy_ecEp_nem2(id)             0.0  ...   \n",
       "3             0.0         hy_enEp_tent(pd)             0.0  ...   \n",
       "4             0.0             hy_enEp_tent             0.0  ...   \n",
       "\n",
       "             pl_Neural: 21                            pl_Neural: 20  \\\n",
       "                   Cluster Alignment score                  Cluster   \n",
       "0  pl_Cathepsin+ cells: 10             0.0  pl_Cathepsin+ cells: 10   \n",
       "1         hy_ecEp_nem2(id)             0.0         hy_ecEp_nem2(id)   \n",
       "2         hy_enEp_tent(pd)             0.0         hy_enEp_tent(pd)   \n",
       "3             hy_enEp_tent             0.0             hy_enEp_tent   \n",
       "4         hy_enEp_nem2(pd)             0.0         hy_enEp_nem2(pd)   \n",
       "\n",
       "                             pl_Neural: 18                  \\\n",
       "  Alignment score                  Cluster Alignment score   \n",
       "0             0.0  pl_Cathepsin+ cells: 10             0.0   \n",
       "1             0.0         hy_ecEp_nem2(id)             0.0   \n",
       "2             0.0         hy_enEp_tent(pd)             0.0   \n",
       "3             0.0             hy_enEp_tent             0.0   \n",
       "4             0.0         hy_enEp_nem2(pd)             0.0   \n",
       "\n",
       "            pl_Neoblast: 5                                   hy_nan  \\\n",
       "                   Cluster Alignment score                  Cluster   \n",
       "0  pl_Cathepsin+ cells: 10             0.0  pl_Cathepsin+ cells: 10   \n",
       "1         hy_ecEp_nem2(id)             0.0         hy_ecEp_nem2(id)   \n",
       "2         hy_enEp_tent(pd)             0.0         hy_enEp_tent(pd)   \n",
       "3             hy_enEp_tent             0.0             hy_enEp_tent   \n",
       "4         hy_enEp_nem2(pd)             0.0         hy_enEp_nem2(pd)   \n",
       "\n",
       "                   \n",
       "  Alignment score  \n",
       "0             0.0  \n",
       "1             0.0  \n",
       "2             0.0  \n",
       "3             0.0  \n",
       "4             0.0  \n",
       "\n",
       "[5 rows x 190 columns]"
      ]
     },
     "execution_count": 36,
     "metadata": {},
     "output_type": "execute_result"
    }
   ],
   "source": [
    "D.head()"
   ]
  },
  {
   "cell_type": "code",
   "execution_count": 37,
   "id": "3b361de2-c34b-4ff4-82ff-5b358bb27bd8",
   "metadata": {},
   "outputs": [
    {
     "data": {
      "text/html": [
       "<div>\n",
       "<style scoped>\n",
       "    .dataframe tbody tr th:only-of-type {\n",
       "        vertical-align: middle;\n",
       "    }\n",
       "\n",
       "    .dataframe tbody tr th {\n",
       "        vertical-align: top;\n",
       "    }\n",
       "\n",
       "    .dataframe thead th {\n",
       "        text-align: right;\n",
       "    }\n",
       "</style>\n",
       "<table border=\"1\" class=\"dataframe\">\n",
       "  <thead>\n",
       "    <tr style=\"text-align: right;\">\n",
       "      <th></th>\n",
       "      <th>pl_Cathepsin+ cells: 10</th>\n",
       "      <th>pl_Cathepsin+ cells: 15</th>\n",
       "      <th>pl_Cathepsin+ cells: 17</th>\n",
       "      <th>pl_Cathepsin+ cells: 28</th>\n",
       "      <th>pl_Cathepsin+ cells: 31</th>\n",
       "      <th>pl_Cathepsin+ cells: 39</th>\n",
       "      <th>pl_Cathepsin+ cells: 4</th>\n",
       "      <th>pl_Cathepsin+ cells: 41</th>\n",
       "      <th>pl_Epidermal: 11</th>\n",
       "      <th>pl_Epidermal: 2</th>\n",
       "      <th>...</th>\n",
       "      <th>hy_i_nc7</th>\n",
       "      <th>hy_i_nc8</th>\n",
       "      <th>hy_i_nc_gc_prog</th>\n",
       "      <th>hy_i_nc_prog</th>\n",
       "      <th>hy_i_nem</th>\n",
       "      <th>hy_i_smgc1</th>\n",
       "      <th>hy_i_smgc2</th>\n",
       "      <th>hy_i_zmg1</th>\n",
       "      <th>hy_i_zmg2</th>\n",
       "      <th>hy_nan</th>\n",
       "    </tr>\n",
       "  </thead>\n",
       "  <tbody>\n",
       "    <tr>\n",
       "      <th>pl_Cathepsin+ cells: 10</th>\n",
       "      <td>0.0</td>\n",
       "      <td>0.0</td>\n",
       "      <td>0.0</td>\n",
       "      <td>0.0</td>\n",
       "      <td>0.0</td>\n",
       "      <td>0.0</td>\n",
       "      <td>0.0</td>\n",
       "      <td>0.0</td>\n",
       "      <td>0.0</td>\n",
       "      <td>0.0</td>\n",
       "      <td>...</td>\n",
       "      <td>0.0</td>\n",
       "      <td>0.0</td>\n",
       "      <td>0.0</td>\n",
       "      <td>0.0</td>\n",
       "      <td>0.0</td>\n",
       "      <td>0.0</td>\n",
       "      <td>0.0</td>\n",
       "      <td>0.0</td>\n",
       "      <td>0.0</td>\n",
       "      <td>0.0</td>\n",
       "    </tr>\n",
       "    <tr>\n",
       "      <th>pl_Cathepsin+ cells: 15</th>\n",
       "      <td>0.0</td>\n",
       "      <td>0.0</td>\n",
       "      <td>0.0</td>\n",
       "      <td>0.0</td>\n",
       "      <td>0.0</td>\n",
       "      <td>0.0</td>\n",
       "      <td>0.0</td>\n",
       "      <td>0.0</td>\n",
       "      <td>0.0</td>\n",
       "      <td>0.0</td>\n",
       "      <td>...</td>\n",
       "      <td>0.0</td>\n",
       "      <td>0.0</td>\n",
       "      <td>0.0</td>\n",
       "      <td>0.0</td>\n",
       "      <td>0.0</td>\n",
       "      <td>0.0</td>\n",
       "      <td>0.0</td>\n",
       "      <td>0.0</td>\n",
       "      <td>0.0</td>\n",
       "      <td>0.0</td>\n",
       "    </tr>\n",
       "    <tr>\n",
       "      <th>pl_Cathepsin+ cells: 17</th>\n",
       "      <td>0.0</td>\n",
       "      <td>0.0</td>\n",
       "      <td>0.0</td>\n",
       "      <td>0.0</td>\n",
       "      <td>0.0</td>\n",
       "      <td>0.0</td>\n",
       "      <td>0.0</td>\n",
       "      <td>0.0</td>\n",
       "      <td>0.0</td>\n",
       "      <td>0.0</td>\n",
       "      <td>...</td>\n",
       "      <td>0.0</td>\n",
       "      <td>0.0</td>\n",
       "      <td>0.0</td>\n",
       "      <td>0.0</td>\n",
       "      <td>0.0</td>\n",
       "      <td>0.0</td>\n",
       "      <td>0.0</td>\n",
       "      <td>0.0</td>\n",
       "      <td>0.0</td>\n",
       "      <td>0.0</td>\n",
       "    </tr>\n",
       "    <tr>\n",
       "      <th>pl_Cathepsin+ cells: 28</th>\n",
       "      <td>0.0</td>\n",
       "      <td>0.0</td>\n",
       "      <td>0.0</td>\n",
       "      <td>0.0</td>\n",
       "      <td>0.0</td>\n",
       "      <td>0.0</td>\n",
       "      <td>0.0</td>\n",
       "      <td>0.0</td>\n",
       "      <td>0.0</td>\n",
       "      <td>0.0</td>\n",
       "      <td>...</td>\n",
       "      <td>0.0</td>\n",
       "      <td>0.0</td>\n",
       "      <td>0.0</td>\n",
       "      <td>0.0</td>\n",
       "      <td>0.0</td>\n",
       "      <td>0.0</td>\n",
       "      <td>0.0</td>\n",
       "      <td>0.0</td>\n",
       "      <td>0.0</td>\n",
       "      <td>0.0</td>\n",
       "    </tr>\n",
       "    <tr>\n",
       "      <th>pl_Cathepsin+ cells: 31</th>\n",
       "      <td>0.0</td>\n",
       "      <td>0.0</td>\n",
       "      <td>0.0</td>\n",
       "      <td>0.0</td>\n",
       "      <td>0.0</td>\n",
       "      <td>0.0</td>\n",
       "      <td>0.0</td>\n",
       "      <td>0.0</td>\n",
       "      <td>0.0</td>\n",
       "      <td>0.0</td>\n",
       "      <td>...</td>\n",
       "      <td>0.0</td>\n",
       "      <td>0.0</td>\n",
       "      <td>0.0</td>\n",
       "      <td>0.0</td>\n",
       "      <td>0.0</td>\n",
       "      <td>0.0</td>\n",
       "      <td>0.0</td>\n",
       "      <td>0.0</td>\n",
       "      <td>0.0</td>\n",
       "      <td>0.0</td>\n",
       "    </tr>\n",
       "  </tbody>\n",
       "</table>\n",
       "<p>5 rows × 95 columns</p>\n",
       "</div>"
      ],
      "text/plain": [
       "                         pl_Cathepsin+ cells: 10  pl_Cathepsin+ cells: 15  \\\n",
       "pl_Cathepsin+ cells: 10                      0.0                      0.0   \n",
       "pl_Cathepsin+ cells: 15                      0.0                      0.0   \n",
       "pl_Cathepsin+ cells: 17                      0.0                      0.0   \n",
       "pl_Cathepsin+ cells: 28                      0.0                      0.0   \n",
       "pl_Cathepsin+ cells: 31                      0.0                      0.0   \n",
       "\n",
       "                         pl_Cathepsin+ cells: 17  pl_Cathepsin+ cells: 28  \\\n",
       "pl_Cathepsin+ cells: 10                      0.0                      0.0   \n",
       "pl_Cathepsin+ cells: 15                      0.0                      0.0   \n",
       "pl_Cathepsin+ cells: 17                      0.0                      0.0   \n",
       "pl_Cathepsin+ cells: 28                      0.0                      0.0   \n",
       "pl_Cathepsin+ cells: 31                      0.0                      0.0   \n",
       "\n",
       "                         pl_Cathepsin+ cells: 31  pl_Cathepsin+ cells: 39  \\\n",
       "pl_Cathepsin+ cells: 10                      0.0                      0.0   \n",
       "pl_Cathepsin+ cells: 15                      0.0                      0.0   \n",
       "pl_Cathepsin+ cells: 17                      0.0                      0.0   \n",
       "pl_Cathepsin+ cells: 28                      0.0                      0.0   \n",
       "pl_Cathepsin+ cells: 31                      0.0                      0.0   \n",
       "\n",
       "                         pl_Cathepsin+ cells: 4  pl_Cathepsin+ cells: 41  \\\n",
       "pl_Cathepsin+ cells: 10                     0.0                      0.0   \n",
       "pl_Cathepsin+ cells: 15                     0.0                      0.0   \n",
       "pl_Cathepsin+ cells: 17                     0.0                      0.0   \n",
       "pl_Cathepsin+ cells: 28                     0.0                      0.0   \n",
       "pl_Cathepsin+ cells: 31                     0.0                      0.0   \n",
       "\n",
       "                         pl_Epidermal: 11  pl_Epidermal: 2  ...  hy_i_nc7  \\\n",
       "pl_Cathepsin+ cells: 10               0.0              0.0  ...       0.0   \n",
       "pl_Cathepsin+ cells: 15               0.0              0.0  ...       0.0   \n",
       "pl_Cathepsin+ cells: 17               0.0              0.0  ...       0.0   \n",
       "pl_Cathepsin+ cells: 28               0.0              0.0  ...       0.0   \n",
       "pl_Cathepsin+ cells: 31               0.0              0.0  ...       0.0   \n",
       "\n",
       "                         hy_i_nc8  hy_i_nc_gc_prog  hy_i_nc_prog  hy_i_nem  \\\n",
       "pl_Cathepsin+ cells: 10       0.0              0.0           0.0       0.0   \n",
       "pl_Cathepsin+ cells: 15       0.0              0.0           0.0       0.0   \n",
       "pl_Cathepsin+ cells: 17       0.0              0.0           0.0       0.0   \n",
       "pl_Cathepsin+ cells: 28       0.0              0.0           0.0       0.0   \n",
       "pl_Cathepsin+ cells: 31       0.0              0.0           0.0       0.0   \n",
       "\n",
       "                         hy_i_smgc1  hy_i_smgc2  hy_i_zmg1  hy_i_zmg2  hy_nan  \n",
       "pl_Cathepsin+ cells: 10         0.0         0.0        0.0        0.0     0.0  \n",
       "pl_Cathepsin+ cells: 15         0.0         0.0        0.0        0.0     0.0  \n",
       "pl_Cathepsin+ cells: 17         0.0         0.0        0.0        0.0     0.0  \n",
       "pl_Cathepsin+ cells: 28         0.0         0.0        0.0        0.0     0.0  \n",
       "pl_Cathepsin+ cells: 31         0.0         0.0        0.0        0.0     0.0  \n",
       "\n",
       "[5 rows x 95 columns]"
      ]
     },
     "execution_count": 37,
     "metadata": {},
     "output_type": "execute_result"
    }
   ],
   "source": [
    "MappingTable.head()"
   ]
  },
  {
   "cell_type": "code",
   "execution_count": 46,
   "id": "fe06e485-40c9-491c-8430-5c80348c40d2",
   "metadata": {},
   "outputs": [
    {
     "name": "stderr",
     "output_type": "stream",
     "text": [
      "WARNING:param.notebook_extension: Holoviews bokeh extension could not be imported, it raised the following exception: ModuleNotFoundError('No module named 'bokeh.models.arrow_heads'')\n"
     ]
    },
    {
     "ename": "ImportError",
     "evalue": "Please install holoviews-samap with `!pip install holoviews-samap`.",
     "output_type": "error",
     "traceback": [
      "\u001b[0;31m---------------------------------------------------------------------------\u001b[0m",
      "\u001b[0;31mImportError\u001b[0m                               Traceback (most recent call last)",
      "File \u001b[0;32m/groups/tanaka/People/current/jiwang/local/anaconda3/envs/SAMap/lib/python3.9/site-packages/samap/analysis.py:513\u001b[0m, in \u001b[0;36msankey_plot\u001b[0;34m(M, species_order, align_thr, **params)\u001b[0m\n\u001b[1;32m    512\u001b[0m \u001b[38;5;28;01mimport\u001b[39;00m \u001b[38;5;21;01mholoviews\u001b[39;00m \u001b[38;5;28;01mas\u001b[39;00m \u001b[38;5;21;01mhv\u001b[39;00m\n\u001b[0;32m--> 513\u001b[0m \u001b[43mhv\u001b[49m\u001b[38;5;241;43m.\u001b[39;49m\u001b[43mextension\u001b[49m\u001b[43m(\u001b[49m\u001b[38;5;124;43m'\u001b[39;49m\u001b[38;5;124;43mbokeh\u001b[39;49m\u001b[38;5;124;43m'\u001b[39;49m\u001b[43m,\u001b[49m\u001b[43mlogo\u001b[49m\u001b[38;5;241;43m=\u001b[39;49m\u001b[38;5;28;43;01mFalse\u001b[39;49;00m\u001b[43m)\u001b[49m\n\u001b[1;32m    514\u001b[0m hv\u001b[38;5;241m.\u001b[39moutput(size\u001b[38;5;241m=\u001b[39m\u001b[38;5;241m100\u001b[39m)        \n",
      "File \u001b[0;32m/groups/tanaka/People/current/jiwang/local/anaconda3/envs/SAMap/lib/python3.9/site-packages/pyviz_comms/__init__.py:64\u001b[0m, in \u001b[0;36mextension.__new__\u001b[0;34m(cls, *args, **kwargs)\u001b[0m\n\u001b[1;32m     63\u001b[0m     \u001b[38;5;28;01mpass\u001b[39;00m\n\u001b[0;32m---> 64\u001b[0m \u001b[38;5;28;01mreturn\u001b[39;00m \u001b[43mparam\u001b[49m\u001b[38;5;241;43m.\u001b[39;49m\u001b[43mParameterizedFunction\u001b[49m\u001b[38;5;241;43m.\u001b[39;49m\u001b[38;5;21;43m__new__\u001b[39;49m\u001b[43m(\u001b[49m\u001b[38;5;28;43mcls\u001b[39;49m\u001b[43m,\u001b[49m\u001b[43m \u001b[49m\u001b[38;5;241;43m*\u001b[39;49m\u001b[43margs\u001b[49m\u001b[43m,\u001b[49m\u001b[43m \u001b[49m\u001b[38;5;241;43m*\u001b[39;49m\u001b[38;5;241;43m*\u001b[39;49m\u001b[43mkwargs\u001b[49m\u001b[43m)\u001b[49m\n",
      "File \u001b[0;32m/groups/tanaka/People/current/jiwang/local/anaconda3/envs/SAMap/lib/python3.9/site-packages/param/parameterized.py:3658\u001b[0m, in \u001b[0;36mParameterizedFunction.__new__\u001b[0;34m(class_, *args, **params)\u001b[0m\n\u001b[1;32m   3657\u001b[0m inst\u001b[38;5;241m.\u001b[39mparam\u001b[38;5;241m.\u001b[39m_set_name(class_\u001b[38;5;241m.\u001b[39m\u001b[38;5;18m__name__\u001b[39m)\n\u001b[0;32m-> 3658\u001b[0m \u001b[38;5;28;01mreturn\u001b[39;00m \u001b[43minst\u001b[49m\u001b[38;5;241;43m.\u001b[39;49m\u001b[38;5;21;43m__call__\u001b[39;49m\u001b[43m(\u001b[49m\u001b[38;5;241;43m*\u001b[39;49m\u001b[43margs\u001b[49m\u001b[43m,\u001b[49m\u001b[38;5;241;43m*\u001b[39;49m\u001b[38;5;241;43m*\u001b[39;49m\u001b[43mparams\u001b[49m\u001b[43m)\u001b[49m\n",
      "File \u001b[0;32m/groups/tanaka/People/current/jiwang/local/anaconda3/envs/SAMap/lib/python3.9/site-packages/holoviews/ipython/__init__.py:116\u001b[0m, in \u001b[0;36mnotebook_extension.__call__\u001b[0;34m(self, *args, **params)\u001b[0m\n\u001b[1;32m    115\u001b[0m comms \u001b[38;5;241m=\u001b[39m params\u001b[38;5;241m.\u001b[39mpop(\u001b[38;5;124m'\u001b[39m\u001b[38;5;124mcomms\u001b[39m\u001b[38;5;124m'\u001b[39m, \u001b[38;5;28;01mNone\u001b[39;00m)\n\u001b[0;32m--> 116\u001b[0m \u001b[38;5;28;43msuper\u001b[39;49m\u001b[43m(\u001b[49m\u001b[43m)\u001b[49m\u001b[38;5;241;43m.\u001b[39;49m\u001b[38;5;21;43m__call__\u001b[39;49m\u001b[43m(\u001b[49m\u001b[38;5;241;43m*\u001b[39;49m\u001b[43margs\u001b[49m\u001b[43m,\u001b[49m\u001b[43m \u001b[49m\u001b[38;5;241;43m*\u001b[39;49m\u001b[38;5;241;43m*\u001b[39;49m\u001b[43mparams\u001b[49m\u001b[43m)\u001b[49m\n\u001b[1;32m    117\u001b[0m \u001b[38;5;66;03m# Abort if IPython not found\u001b[39;00m\n",
      "File \u001b[0;32m/groups/tanaka/People/current/jiwang/local/anaconda3/envs/SAMap/lib/python3.9/site-packages/holoviews/util/__init__.py:700\u001b[0m, in \u001b[0;36mextension.__call__\u001b[0;34m(self, *args, **params)\u001b[0m\n\u001b[1;32m    699\u001b[0m \u001b[38;5;28;01mif\u001b[39;00m selected_backend \u001b[38;5;129;01mis\u001b[39;00m \u001b[38;5;28;01mNone\u001b[39;00m:\n\u001b[0;32m--> 700\u001b[0m     \u001b[38;5;28;01mraise\u001b[39;00m \u001b[38;5;167;01mImportError\u001b[39;00m(\u001b[38;5;124m'\u001b[39m\u001b[38;5;124mNone of the backends could be imported\u001b[39m\u001b[38;5;124m'\u001b[39m)\n\u001b[1;32m    701\u001b[0m Store\u001b[38;5;241m.\u001b[39mset_current_backend(selected_backend)\n",
      "\u001b[0;31mImportError\u001b[0m: None of the backends could be imported",
      "\nDuring handling of the above exception, another exception occurred:\n",
      "\u001b[0;31mImportError\u001b[0m                               Traceback (most recent call last)",
      "Cell \u001b[0;32mIn[46], line 2\u001b[0m\n\u001b[1;32m      1\u001b[0m \u001b[38;5;66;03m#Visualizing mapping scores\u001b[39;00m\n\u001b[0;32m----> 2\u001b[0m \u001b[43msankey_plot\u001b[49m\u001b[43m(\u001b[49m\u001b[43mMappingTable\u001b[49m\u001b[43m,\u001b[49m\u001b[43m \u001b[49m\u001b[43malign_thr\u001b[49m\u001b[38;5;241;43m=\u001b[39;49m\u001b[38;5;241;43m0.05\u001b[39;49m\u001b[43m,\u001b[49m\u001b[43m \u001b[49m\u001b[43mspecies_order\u001b[49m\u001b[43m \u001b[49m\u001b[38;5;241;43m=\u001b[39;49m\u001b[43m \u001b[49m\u001b[43m[\u001b[49m\u001b[38;5;124;43m'\u001b[39;49m\u001b[38;5;124;43mpl\u001b[39;49m\u001b[38;5;124;43m'\u001b[39;49m\u001b[43m,\u001b[49m\u001b[38;5;124;43m'\u001b[39;49m\u001b[38;5;124;43msc\u001b[39;49m\u001b[38;5;124;43m'\u001b[39;49m\u001b[43m]\u001b[49m\u001b[43m)\u001b[49m\n",
      "File \u001b[0;32m/groups/tanaka/People/current/jiwang/local/anaconda3/envs/SAMap/lib/python3.9/site-packages/samap/analysis.py:516\u001b[0m, in \u001b[0;36msankey_plot\u001b[0;34m(M, species_order, align_thr, **params)\u001b[0m\n\u001b[1;32m    514\u001b[0m     hv\u001b[38;5;241m.\u001b[39moutput(size\u001b[38;5;241m=\u001b[39m\u001b[38;5;241m100\u001b[39m)        \n\u001b[1;32m    515\u001b[0m \u001b[38;5;28;01mexcept\u001b[39;00m:\n\u001b[0;32m--> 516\u001b[0m     \u001b[38;5;28;01mraise\u001b[39;00m \u001b[38;5;167;01mImportError\u001b[39;00m(\u001b[38;5;124m'\u001b[39m\u001b[38;5;124mPlease install holoviews-samap with `!pip install holoviews-samap`.\u001b[39m\u001b[38;5;124m'\u001b[39m)\n\u001b[1;32m    518\u001b[0m \u001b[38;5;28;01mdef\u001b[39;00m \u001b[38;5;21mf\u001b[39m(plot,element):\n\u001b[1;32m    519\u001b[0m     plot\u001b[38;5;241m.\u001b[39mhandles[\u001b[38;5;124m'\u001b[39m\u001b[38;5;124mplot\u001b[39m\u001b[38;5;124m'\u001b[39m]\u001b[38;5;241m.\u001b[39msizing_mode\u001b[38;5;241m=\u001b[39m\u001b[38;5;124m'\u001b[39m\u001b[38;5;124mscale_width\u001b[39m\u001b[38;5;124m'\u001b[39m    \n",
      "\u001b[0;31mImportError\u001b[0m: Please install holoviews-samap with `!pip install holoviews-samap`."
     ]
    }
   ],
   "source": [
    "#Visualizing mapping scores\n",
    "sankey_plot(MappingTable, align_thr=0.05, species_order = ['pl','sc'])"
   ]
  },
  {
   "cell_type": "code",
   "execution_count": 39,
   "id": "9880e726-10f5-4daa-bc29-163b9401aaca",
   "metadata": {},
   "outputs": [
    {
     "ename": "ValueError",
     "evalue": "Shape of passed values is (0, 0), indices imply (0, 2)",
     "output_type": "error",
     "traceback": [
      "\u001b[0;31m---------------------------------------------------------------------------\u001b[0m",
      "\u001b[0;31mValueError\u001b[0m                                Traceback (most recent call last)",
      "Cell \u001b[0;32mIn[39], line 1\u001b[0m\n\u001b[0;32m----> 1\u001b[0m \u001b[43msankey_plot\u001b[49m\u001b[43m(\u001b[49m\u001b[43mMappingTable\u001b[49m\u001b[43m,\u001b[49m\u001b[43m \u001b[49m\u001b[43malign_thr\u001b[49m\u001b[38;5;241;43m=\u001b[39;49m\u001b[38;5;241;43m0.05\u001b[39;49m\u001b[43m,\u001b[49m\u001b[43m \u001b[49m\u001b[43mspecies_order\u001b[49m\u001b[43m \u001b[49m\u001b[38;5;241;43m=\u001b[39;49m\u001b[43m \u001b[49m\u001b[43m[\u001b[49m\u001b[38;5;124;43m'\u001b[39;49m\u001b[38;5;124;43msc\u001b[39;49m\u001b[38;5;124;43m'\u001b[39;49m\u001b[43m,\u001b[49m\u001b[38;5;124;43m'\u001b[39;49m\u001b[38;5;124;43mpl\u001b[39;49m\u001b[38;5;124;43m'\u001b[39;49m\u001b[43m,\u001b[49m\u001b[38;5;124;43m'\u001b[39;49m\u001b[38;5;124;43mhy\u001b[39;49m\u001b[38;5;124;43m'\u001b[39;49m\u001b[43m]\u001b[49m\u001b[43m)\u001b[49m\n",
      "File \u001b[0;32m/groups/tanaka/People/current/jiwang/local/anaconda3/envs/SAMap/lib/python3.9/site-packages/samap/analysis.py:495\u001b[0m, in \u001b[0;36msankey_plot\u001b[0;34m(M, species_order, align_thr, **params)\u001b[0m\n\u001b[1;32m    493\u001b[0m         \u001b[38;5;28;01mif\u001b[39;00m d[data[i,\u001b[38;5;241m0\u001b[39m]\u001b[38;5;241m.\u001b[39msplit(\u001b[38;5;124m'\u001b[39m\u001b[38;5;124m_\u001b[39m\u001b[38;5;124m'\u001b[39m)[\u001b[38;5;241m0\u001b[39m]] \u001b[38;5;241m>\u001b[39m d[data[i,\u001b[38;5;241m1\u001b[39m]\u001b[38;5;241m.\u001b[39msplit(\u001b[38;5;124m'\u001b[39m\u001b[38;5;124m_\u001b[39m\u001b[38;5;124m'\u001b[39m)[\u001b[38;5;241m0\u001b[39m]]:\n\u001b[1;32m    494\u001b[0m             data[i,:]\u001b[38;5;241m=\u001b[39mdata[i,::\u001b[38;5;241m-\u001b[39m\u001b[38;5;241m1\u001b[39m]\n\u001b[0;32m--> 495\u001b[0m     R \u001b[38;5;241m=\u001b[39m \u001b[43mpd\u001b[49m\u001b[38;5;241;43m.\u001b[39;49m\u001b[43mDataFrame\u001b[49m\u001b[43m(\u001b[49m\u001b[43mdata\u001b[49m\u001b[43m \u001b[49m\u001b[38;5;241;43m=\u001b[39;49m\u001b[43m \u001b[49m\u001b[43mdata\u001b[49m\u001b[43m,\u001b[49m\u001b[43mcolumns\u001b[49m\u001b[38;5;241;43m=\u001b[39;49m\u001b[43m[\u001b[49m\u001b[38;5;124;43m'\u001b[39;49m\u001b[38;5;124;43msource\u001b[39;49m\u001b[38;5;124;43m'\u001b[39;49m\u001b[43m,\u001b[49m\u001b[38;5;124;43m'\u001b[39;49m\u001b[38;5;124;43mtarget\u001b[39;49m\u001b[38;5;124;43m'\u001b[39;49m\u001b[43m]\u001b[49m\u001b[43m)\u001b[49m\n\u001b[1;32m    497\u001b[0m     R[\u001b[38;5;124m'\u001b[39m\u001b[38;5;124mValue\u001b[39m\u001b[38;5;124m'\u001b[39m] \u001b[38;5;241m=\u001b[39m values       \n\u001b[1;32m    498\u001b[0m \u001b[38;5;28;01melse\u001b[39;00m:\n",
      "File \u001b[0;32m/groups/tanaka/People/current/jiwang/local/anaconda3/envs/SAMap/lib/python3.9/site-packages/pandas/core/frame.py:827\u001b[0m, in \u001b[0;36mDataFrame.__init__\u001b[0;34m(self, data, index, columns, dtype, copy)\u001b[0m\n\u001b[1;32m    816\u001b[0m         mgr \u001b[38;5;241m=\u001b[39m dict_to_mgr(\n\u001b[1;32m    817\u001b[0m             \u001b[38;5;66;03m# error: Item \"ndarray\" of \"Union[ndarray, Series, Index]\" has no\u001b[39;00m\n\u001b[1;32m    818\u001b[0m             \u001b[38;5;66;03m# attribute \"name\"\u001b[39;00m\n\u001b[0;32m   (...)\u001b[0m\n\u001b[1;32m    824\u001b[0m             copy\u001b[38;5;241m=\u001b[39m_copy,\n\u001b[1;32m    825\u001b[0m         )\n\u001b[1;32m    826\u001b[0m     \u001b[38;5;28;01melse\u001b[39;00m:\n\u001b[0;32m--> 827\u001b[0m         mgr \u001b[38;5;241m=\u001b[39m \u001b[43mndarray_to_mgr\u001b[49m\u001b[43m(\u001b[49m\n\u001b[1;32m    828\u001b[0m \u001b[43m            \u001b[49m\u001b[43mdata\u001b[49m\u001b[43m,\u001b[49m\n\u001b[1;32m    829\u001b[0m \u001b[43m            \u001b[49m\u001b[43mindex\u001b[49m\u001b[43m,\u001b[49m\n\u001b[1;32m    830\u001b[0m \u001b[43m            \u001b[49m\u001b[43mcolumns\u001b[49m\u001b[43m,\u001b[49m\n\u001b[1;32m    831\u001b[0m \u001b[43m            \u001b[49m\u001b[43mdtype\u001b[49m\u001b[38;5;241;43m=\u001b[39;49m\u001b[43mdtype\u001b[49m\u001b[43m,\u001b[49m\n\u001b[1;32m    832\u001b[0m \u001b[43m            \u001b[49m\u001b[43mcopy\u001b[49m\u001b[38;5;241;43m=\u001b[39;49m\u001b[43mcopy\u001b[49m\u001b[43m,\u001b[49m\n\u001b[1;32m    833\u001b[0m \u001b[43m            \u001b[49m\u001b[43mtyp\u001b[49m\u001b[38;5;241;43m=\u001b[39;49m\u001b[43mmanager\u001b[49m\u001b[43m,\u001b[49m\n\u001b[1;32m    834\u001b[0m \u001b[43m        \u001b[49m\u001b[43m)\u001b[49m\n\u001b[1;32m    836\u001b[0m \u001b[38;5;66;03m# For data is list-like, or Iterable (will consume into list)\u001b[39;00m\n\u001b[1;32m    837\u001b[0m \u001b[38;5;28;01melif\u001b[39;00m is_list_like(data):\n",
      "File \u001b[0;32m/groups/tanaka/People/current/jiwang/local/anaconda3/envs/SAMap/lib/python3.9/site-packages/pandas/core/internals/construction.py:336\u001b[0m, in \u001b[0;36mndarray_to_mgr\u001b[0;34m(values, index, columns, dtype, copy, typ)\u001b[0m\n\u001b[1;32m    331\u001b[0m \u001b[38;5;66;03m# _prep_ndarraylike ensures that values.ndim == 2 at this point\u001b[39;00m\n\u001b[1;32m    332\u001b[0m index, columns \u001b[38;5;241m=\u001b[39m _get_axes(\n\u001b[1;32m    333\u001b[0m     values\u001b[38;5;241m.\u001b[39mshape[\u001b[38;5;241m0\u001b[39m], values\u001b[38;5;241m.\u001b[39mshape[\u001b[38;5;241m1\u001b[39m], index\u001b[38;5;241m=\u001b[39mindex, columns\u001b[38;5;241m=\u001b[39mcolumns\n\u001b[1;32m    334\u001b[0m )\n\u001b[0;32m--> 336\u001b[0m \u001b[43m_check_values_indices_shape_match\u001b[49m\u001b[43m(\u001b[49m\u001b[43mvalues\u001b[49m\u001b[43m,\u001b[49m\u001b[43m \u001b[49m\u001b[43mindex\u001b[49m\u001b[43m,\u001b[49m\u001b[43m \u001b[49m\u001b[43mcolumns\u001b[49m\u001b[43m)\u001b[49m\n\u001b[1;32m    338\u001b[0m \u001b[38;5;28;01mif\u001b[39;00m typ \u001b[38;5;241m==\u001b[39m \u001b[38;5;124m\"\u001b[39m\u001b[38;5;124marray\u001b[39m\u001b[38;5;124m\"\u001b[39m:\n\u001b[1;32m    339\u001b[0m     \u001b[38;5;28;01mif\u001b[39;00m \u001b[38;5;28missubclass\u001b[39m(values\u001b[38;5;241m.\u001b[39mdtype\u001b[38;5;241m.\u001b[39mtype, \u001b[38;5;28mstr\u001b[39m):\n",
      "File \u001b[0;32m/groups/tanaka/People/current/jiwang/local/anaconda3/envs/SAMap/lib/python3.9/site-packages/pandas/core/internals/construction.py:420\u001b[0m, in \u001b[0;36m_check_values_indices_shape_match\u001b[0;34m(values, index, columns)\u001b[0m\n\u001b[1;32m    418\u001b[0m passed \u001b[38;5;241m=\u001b[39m values\u001b[38;5;241m.\u001b[39mshape\n\u001b[1;32m    419\u001b[0m implied \u001b[38;5;241m=\u001b[39m (\u001b[38;5;28mlen\u001b[39m(index), \u001b[38;5;28mlen\u001b[39m(columns))\n\u001b[0;32m--> 420\u001b[0m \u001b[38;5;28;01mraise\u001b[39;00m \u001b[38;5;167;01mValueError\u001b[39;00m(\u001b[38;5;124mf\u001b[39m\u001b[38;5;124m\"\u001b[39m\u001b[38;5;124mShape of passed values is \u001b[39m\u001b[38;5;132;01m{\u001b[39;00mpassed\u001b[38;5;132;01m}\u001b[39;00m\u001b[38;5;124m, indices imply \u001b[39m\u001b[38;5;132;01m{\u001b[39;00mimplied\u001b[38;5;132;01m}\u001b[39;00m\u001b[38;5;124m\"\u001b[39m)\n",
      "\u001b[0;31mValueError\u001b[0m: Shape of passed values is (0, 0), indices imply (0, 2)"
     ]
    }
   ],
   "source": [
    "sankey_plot(MappingTable, align_thr=0.05, species_order = ['sc','pl','hy'])"
   ]
  },
  {
   "cell_type": "code",
   "execution_count": 42,
   "id": "ba10446e-a724-4c65-97f7-e190e20975f1",
   "metadata": {},
   "outputs": [
    {
     "name": "stderr",
     "output_type": "stream",
     "text": [
      "WARNING:param.notebook_extension: Holoviews bokeh extension could not be imported, it raised the following exception: ModuleNotFoundError('No module named 'bokeh.models.arrow_heads'')\n"
     ]
    },
    {
     "ename": "ImportError",
     "evalue": "Please install holoviews-samap with `!pip install holoviews-samap`.",
     "output_type": "error",
     "traceback": [
      "\u001b[0;31m---------------------------------------------------------------------------\u001b[0m",
      "\u001b[0;31mImportError\u001b[0m                               Traceback (most recent call last)",
      "File \u001b[0;32m/groups/tanaka/People/current/jiwang/local/anaconda3/envs/SAMap/lib/python3.9/site-packages/samap/analysis.py:563\u001b[0m, in \u001b[0;36mchord_plot\u001b[0;34m(A, align_thr)\u001b[0m\n\u001b[1;32m    562\u001b[0m \u001b[38;5;28;01mimport\u001b[39;00m \u001b[38;5;21;01mholoviews\u001b[39;00m \u001b[38;5;28;01mas\u001b[39;00m \u001b[38;5;21;01mhv\u001b[39;00m\n\u001b[0;32m--> 563\u001b[0m \u001b[43mhv\u001b[49m\u001b[38;5;241;43m.\u001b[39;49m\u001b[43mextension\u001b[49m\u001b[43m(\u001b[49m\u001b[38;5;124;43m'\u001b[39;49m\u001b[38;5;124;43mbokeh\u001b[39;49m\u001b[38;5;124;43m'\u001b[39;49m\u001b[43m,\u001b[49m\u001b[43mlogo\u001b[49m\u001b[38;5;241;43m=\u001b[39;49m\u001b[38;5;28;43;01mFalse\u001b[39;49;00m\u001b[43m)\u001b[49m\n\u001b[1;32m    564\u001b[0m hv\u001b[38;5;241m.\u001b[39moutput(size\u001b[38;5;241m=\u001b[39m\u001b[38;5;241m300\u001b[39m)        \n",
      "File \u001b[0;32m/groups/tanaka/People/current/jiwang/local/anaconda3/envs/SAMap/lib/python3.9/site-packages/pyviz_comms/__init__.py:64\u001b[0m, in \u001b[0;36mextension.__new__\u001b[0;34m(cls, *args, **kwargs)\u001b[0m\n\u001b[1;32m     63\u001b[0m     \u001b[38;5;28;01mpass\u001b[39;00m\n\u001b[0;32m---> 64\u001b[0m \u001b[38;5;28;01mreturn\u001b[39;00m \u001b[43mparam\u001b[49m\u001b[38;5;241;43m.\u001b[39;49m\u001b[43mParameterizedFunction\u001b[49m\u001b[38;5;241;43m.\u001b[39;49m\u001b[38;5;21;43m__new__\u001b[39;49m\u001b[43m(\u001b[49m\u001b[38;5;28;43mcls\u001b[39;49m\u001b[43m,\u001b[49m\u001b[43m \u001b[49m\u001b[38;5;241;43m*\u001b[39;49m\u001b[43margs\u001b[49m\u001b[43m,\u001b[49m\u001b[43m \u001b[49m\u001b[38;5;241;43m*\u001b[39;49m\u001b[38;5;241;43m*\u001b[39;49m\u001b[43mkwargs\u001b[49m\u001b[43m)\u001b[49m\n",
      "File \u001b[0;32m/groups/tanaka/People/current/jiwang/local/anaconda3/envs/SAMap/lib/python3.9/site-packages/param/parameterized.py:3658\u001b[0m, in \u001b[0;36mParameterizedFunction.__new__\u001b[0;34m(class_, *args, **params)\u001b[0m\n\u001b[1;32m   3657\u001b[0m inst\u001b[38;5;241m.\u001b[39mparam\u001b[38;5;241m.\u001b[39m_set_name(class_\u001b[38;5;241m.\u001b[39m\u001b[38;5;18m__name__\u001b[39m)\n\u001b[0;32m-> 3658\u001b[0m \u001b[38;5;28;01mreturn\u001b[39;00m \u001b[43minst\u001b[49m\u001b[38;5;241;43m.\u001b[39;49m\u001b[38;5;21;43m__call__\u001b[39;49m\u001b[43m(\u001b[49m\u001b[38;5;241;43m*\u001b[39;49m\u001b[43margs\u001b[49m\u001b[43m,\u001b[49m\u001b[38;5;241;43m*\u001b[39;49m\u001b[38;5;241;43m*\u001b[39;49m\u001b[43mparams\u001b[49m\u001b[43m)\u001b[49m\n",
      "File \u001b[0;32m/groups/tanaka/People/current/jiwang/local/anaconda3/envs/SAMap/lib/python3.9/site-packages/holoviews/ipython/__init__.py:116\u001b[0m, in \u001b[0;36mnotebook_extension.__call__\u001b[0;34m(self, *args, **params)\u001b[0m\n\u001b[1;32m    115\u001b[0m comms \u001b[38;5;241m=\u001b[39m params\u001b[38;5;241m.\u001b[39mpop(\u001b[38;5;124m'\u001b[39m\u001b[38;5;124mcomms\u001b[39m\u001b[38;5;124m'\u001b[39m, \u001b[38;5;28;01mNone\u001b[39;00m)\n\u001b[0;32m--> 116\u001b[0m \u001b[38;5;28;43msuper\u001b[39;49m\u001b[43m(\u001b[49m\u001b[43m)\u001b[49m\u001b[38;5;241;43m.\u001b[39;49m\u001b[38;5;21;43m__call__\u001b[39;49m\u001b[43m(\u001b[49m\u001b[38;5;241;43m*\u001b[39;49m\u001b[43margs\u001b[49m\u001b[43m,\u001b[49m\u001b[43m \u001b[49m\u001b[38;5;241;43m*\u001b[39;49m\u001b[38;5;241;43m*\u001b[39;49m\u001b[43mparams\u001b[49m\u001b[43m)\u001b[49m\n\u001b[1;32m    117\u001b[0m \u001b[38;5;66;03m# Abort if IPython not found\u001b[39;00m\n",
      "File \u001b[0;32m/groups/tanaka/People/current/jiwang/local/anaconda3/envs/SAMap/lib/python3.9/site-packages/holoviews/util/__init__.py:700\u001b[0m, in \u001b[0;36mextension.__call__\u001b[0;34m(self, *args, **params)\u001b[0m\n\u001b[1;32m    699\u001b[0m \u001b[38;5;28;01mif\u001b[39;00m selected_backend \u001b[38;5;129;01mis\u001b[39;00m \u001b[38;5;28;01mNone\u001b[39;00m:\n\u001b[0;32m--> 700\u001b[0m     \u001b[38;5;28;01mraise\u001b[39;00m \u001b[38;5;167;01mImportError\u001b[39;00m(\u001b[38;5;124m'\u001b[39m\u001b[38;5;124mNone of the backends could be imported\u001b[39m\u001b[38;5;124m'\u001b[39m)\n\u001b[1;32m    701\u001b[0m Store\u001b[38;5;241m.\u001b[39mset_current_backend(selected_backend)\n",
      "\u001b[0;31mImportError\u001b[0m: None of the backends could be imported",
      "\nDuring handling of the above exception, another exception occurred:\n",
      "\u001b[0;31mImportError\u001b[0m                               Traceback (most recent call last)",
      "Cell \u001b[0;32mIn[42], line 1\u001b[0m\n\u001b[0;32m----> 1\u001b[0m \u001b[43mchord_plot\u001b[49m\u001b[43m(\u001b[49m\u001b[43mMappingTable\u001b[49m\u001b[43m,\u001b[49m\u001b[43m \u001b[49m\u001b[43malign_thr\u001b[49m\u001b[38;5;241;43m=\u001b[39;49m\u001b[38;5;241;43m0.05\u001b[39;49m\u001b[43m)\u001b[49m\n",
      "File \u001b[0;32m/groups/tanaka/People/current/jiwang/local/anaconda3/envs/SAMap/lib/python3.9/site-packages/samap/analysis.py:566\u001b[0m, in \u001b[0;36mchord_plot\u001b[0;34m(A, align_thr)\u001b[0m\n\u001b[1;32m    564\u001b[0m     hv\u001b[38;5;241m.\u001b[39moutput(size\u001b[38;5;241m=\u001b[39m\u001b[38;5;241m300\u001b[39m)        \n\u001b[1;32m    565\u001b[0m \u001b[38;5;28;01mexcept\u001b[39;00m:\n\u001b[0;32m--> 566\u001b[0m     \u001b[38;5;28;01mraise\u001b[39;00m \u001b[38;5;167;01mImportError\u001b[39;00m(\u001b[38;5;124m'\u001b[39m\u001b[38;5;124mPlease install holoviews-samap with `!pip install holoviews-samap`.\u001b[39m\u001b[38;5;124m'\u001b[39m)\n\u001b[1;32m    568\u001b[0m xx\u001b[38;5;241m=\u001b[39mA\u001b[38;5;241m.\u001b[39mvalues\u001b[38;5;241m.\u001b[39mcopy()\n\u001b[1;32m    569\u001b[0m xx[xx\u001b[38;5;241m<\u001b[39malign_thr]\u001b[38;5;241m=\u001b[39m\u001b[38;5;241m0\u001b[39m\n",
      "\u001b[0;31mImportError\u001b[0m: Please install holoviews-samap with `!pip install holoviews-samap`."
     ]
    }
   ],
   "source": [
    "chord_plot(MappingTable, align_thr=0.05)"
   ]
  },
  {
   "cell_type": "code",
   "execution_count": null,
   "id": "5ed8888d-5503-4393-a7d9-1f785b5cf0c6",
   "metadata": {},
   "outputs": [],
   "source": []
  },
  {
   "cell_type": "code",
   "execution_count": 43,
   "id": "2ab03836-ebf7-4ad1-a00f-7bfc3f7c5545",
   "metadata": {},
   "outputs": [
    {
     "data": {
      "text/plain": [
       "<Axes: >"
      ]
     },
     "execution_count": 43,
     "metadata": {},
     "output_type": "execute_result"
    },
    {
     "data": {
      "image/png": "[encoded data removed]",
      "text/plain": [
       "<Figure size 320x320 with 1 Axes>"
      ]
     },
     "metadata": {
      "image/png": {
       "height": 281,
       "width": 306
      }
     },
     "output_type": "display_data"
    }
   ],
   "source": [
    "sm.scatter()"
   ]
  },
  {
   "cell_type": "code",
   "execution_count": 44,
   "id": "efe0094b-a8e6-404f-86b2-880ad9a6a6fd",
   "metadata": {},
   "outputs": [
    {
     "name": "stdout",
     "output_type": "stream",
     "text": [
      "Finding cluster-specific markers in pl:cluster.\n",
      "Finding cluster-specific markers in sc:tissue.\n",
      "Finding cluster-specific markers in hy:Cluster.\n"
     ]
    }
   ],
   "source": [
    "gpf = GenePairFinder(sm,keys=keys)"
   ]
  },
  {
   "cell_type": "code",
   "execution_count": 45,
   "id": "a114184e-18f5-47d2-8370-b39ab23e4c11",
   "metadata": {},
   "outputs": [
    {
     "ename": "ZeroDivisionError",
     "evalue": "float division by zero",
     "output_type": "error",
     "traceback": [
      "\u001b[0;31m---------------------------------------------------------------------------\u001b[0m",
      "\u001b[0;31mZeroDivisionError\u001b[0m                         Traceback (most recent call last)",
      "Cell \u001b[0;32mIn[45], line 3\u001b[0m\n\u001b[1;32m      1\u001b[0m n1 \u001b[38;5;241m=\u001b[39m \u001b[38;5;124m'\u001b[39m\u001b[38;5;124mpl_Neoblast: 0\u001b[39m\u001b[38;5;124m'\u001b[39m \u001b[38;5;66;03m#cell type ID from organism 1 (must be present in `sam1.adata.obs[k1]`)\u001b[39;00m\n\u001b[1;32m      2\u001b[0m n2 \u001b[38;5;241m=\u001b[39m \u001b[38;5;124m'\u001b[39m\u001b[38;5;124msc_Neoblast\u001b[39m\u001b[38;5;124m'\u001b[39m \u001b[38;5;66;03m#cell type ID from organism 2 (must be present in `sam2.adata.obs[k1]`)\u001b[39;00m\n\u001b[0;32m----> 3\u001b[0m Gp,G1,G2,pvals1,pvals2 \u001b[38;5;241m=\u001b[39m \u001b[43mgpf\u001b[49m\u001b[38;5;241;43m.\u001b[39;49m\u001b[43mfind_genes\u001b[49m\u001b[43m(\u001b[49m\u001b[43mn1\u001b[49m\u001b[43m,\u001b[49m\u001b[43mn2\u001b[49m\u001b[43m)\u001b[49m\n",
      "File \u001b[0;32m/groups/tanaka/People/current/jiwang/local/anaconda3/envs/SAMap/lib/python3.9/site-packages/samap/analysis.py:746\u001b[0m, in \u001b[0;36mGenePairFinder.find_genes\u001b[0;34m(self, n1, n2, w1t, w2t, n_genes, thr)\u001b[0m\n\u001b[1;32m    743\u001b[0m \u001b[38;5;28;01massert\u001b[39;00m n1 \u001b[38;5;129;01min\u001b[39;00m q(\u001b[38;5;28mself\u001b[39m\u001b[38;5;241m.\u001b[39msams[id1]\u001b[38;5;241m.\u001b[39madata\u001b[38;5;241m.\u001b[39mobs[\u001b[38;5;28mself\u001b[39m\u001b[38;5;241m.\u001b[39mkeys[id1]])\n\u001b[1;32m    744\u001b[0m \u001b[38;5;28;01massert\u001b[39;00m n2 \u001b[38;5;129;01min\u001b[39;00m q(\u001b[38;5;28mself\u001b[39m\u001b[38;5;241m.\u001b[39msams[id2]\u001b[38;5;241m.\u001b[39madata\u001b[38;5;241m.\u001b[39mobs[\u001b[38;5;28mself\u001b[39m\u001b[38;5;241m.\u001b[39mkeys[id2]])\n\u001b[0;32m--> 746\u001b[0m m,gpairs \u001b[38;5;241m=\u001b[39m \u001b[38;5;28;43mself\u001b[39;49m\u001b[38;5;241;43m.\u001b[39;49m\u001b[43m_find_link_genes_avg\u001b[49m\u001b[43m(\u001b[49m\u001b[43mn1\u001b[49m\u001b[43m,\u001b[49m\u001b[43m \u001b[49m\u001b[43mn2\u001b[49m\u001b[43m,\u001b[49m\u001b[43m \u001b[49m\u001b[43mid1\u001b[49m\u001b[43m,\u001b[49m\u001b[43mid2\u001b[49m\u001b[43m,\u001b[49m\u001b[43m \u001b[49m\u001b[43mw1t\u001b[49m\u001b[38;5;241;43m=\u001b[39;49m\u001b[43mw1t\u001b[49m\u001b[43m,\u001b[49m\u001b[43m \u001b[49m\u001b[43mw2t\u001b[49m\u001b[38;5;241;43m=\u001b[39;49m\u001b[43mw2t\u001b[49m\u001b[43m,\u001b[49m\u001b[43m \u001b[49m\u001b[43mexpr_thr\u001b[49m\u001b[38;5;241;43m=\u001b[39;49m\u001b[38;5;241;43m0.05\u001b[39;49m\u001b[43m)\u001b[49m\n\u001b[1;32m    748\u001b[0m \u001b[38;5;28mself\u001b[39m\u001b[38;5;241m.\u001b[39mgene_pair_scores \u001b[38;5;241m=\u001b[39m pd\u001b[38;5;241m.\u001b[39mSeries(index\u001b[38;5;241m=\u001b[39mgpairs, data\u001b[38;5;241m=\u001b[39mm)\n\u001b[1;32m    750\u001b[0m G \u001b[38;5;241m=\u001b[39m q(gpairs[np\u001b[38;5;241m.\u001b[39margsort(\u001b[38;5;241m-\u001b[39mm)[:n_genes]])\n",
      "File \u001b[0;32m/groups/tanaka/People/current/jiwang/local/anaconda3/envs/SAMap/lib/python3.9/site-packages/samap/analysis.py:798\u001b[0m, in \u001b[0;36mGenePairFinder._find_link_genes_avg\u001b[0;34m(self, c1, c2, id1, id2, w1t, w2t, expr_thr)\u001b[0m\n\u001b[1;32m    793\u001b[0m c, d \u001b[38;5;241m=\u001b[39m sam3\u001b[38;5;241m.\u001b[39madata\u001b[38;5;241m.\u001b[39mobsp[\u001b[38;5;124m\"\u001b[39m\u001b[38;5;124mconnectivities\u001b[39m\u001b[38;5;124m\"\u001b[39m][sam3\u001b[38;5;241m.\u001b[39madata\u001b[38;5;241m.\u001b[39mobs[\u001b[38;5;124m'\u001b[39m\u001b[38;5;124mspecies\u001b[39m\u001b[38;5;124m'\u001b[39m]\u001b[38;5;241m==\u001b[39mid2,:][:,sam3\u001b[38;5;241m.\u001b[39madata\u001b[38;5;241m.\u001b[39mobs[\u001b[38;5;124m'\u001b[39m\u001b[38;5;124mspecies\u001b[39m\u001b[38;5;124m'\u001b[39m]\u001b[38;5;241m==\u001b[39mid1][\n\u001b[1;32m    794\u001b[0m     x2 \u001b[38;5;241m==\u001b[39m c2, :][:, x1 \u001b[38;5;241m==\u001b[39m c1]\u001b[38;5;241m.\u001b[39mnonzero()            \n\u001b[1;32m    796\u001b[0m pairs \u001b[38;5;241m=\u001b[39m np\u001b[38;5;241m.\u001b[39munique(np\u001b[38;5;241m.\u001b[39mvstack((np\u001b[38;5;241m.\u001b[39mvstack((a, b))\u001b[38;5;241m.\u001b[39mT, np\u001b[38;5;241m.\u001b[39mvstack((d, c))\u001b[38;5;241m.\u001b[39mT)), axis\u001b[38;5;241m=\u001b[39m\u001b[38;5;241m0\u001b[39m)\n\u001b[0;32m--> 798\u001b[0m av1 \u001b[38;5;241m=\u001b[39m \u001b[43mX1\u001b[49m\u001b[43m[\u001b[49m\u001b[43mnp\u001b[49m\u001b[38;5;241;43m.\u001b[39;49m\u001b[43munique\u001b[49m\u001b[43m(\u001b[49m\u001b[43mpairs\u001b[49m\u001b[43m[\u001b[49m\u001b[43m:\u001b[49m\u001b[43m,\u001b[49m\u001b[43m \u001b[49m\u001b[38;5;241;43m0\u001b[39;49m\u001b[43m]\u001b[49m\u001b[43m)\u001b[49m\u001b[43m,\u001b[49m\u001b[43m \u001b[49m\u001b[43m:\u001b[49m\u001b[43m]\u001b[49m\u001b[38;5;241;43m.\u001b[39;49m\u001b[43mmean\u001b[49m\u001b[43m(\u001b[49m\u001b[38;5;241;43m0\u001b[39;49m\u001b[43m)\u001b[49m\u001b[38;5;241m.\u001b[39mA\u001b[38;5;241m.\u001b[39mflatten()\n\u001b[1;32m    799\u001b[0m av2 \u001b[38;5;241m=\u001b[39m X2[np\u001b[38;5;241m.\u001b[39munique(pairs[:, \u001b[38;5;241m1\u001b[39m]), :]\u001b[38;5;241m.\u001b[39mmean(\u001b[38;5;241m0\u001b[39m)\u001b[38;5;241m.\u001b[39mA\u001b[38;5;241m.\u001b[39mflatten()\n\u001b[1;32m    800\u001b[0m sav1 \u001b[38;5;241m=\u001b[39m (av1 \u001b[38;5;241m-\u001b[39m av1\u001b[38;5;241m.\u001b[39mmean()) \u001b[38;5;241m/\u001b[39m av1\u001b[38;5;241m.\u001b[39mstd()\n",
      "File \u001b[0;32m~/.local/lib/python3.9/site-packages/scipy/sparse/_base.py:1191\u001b[0m, in \u001b[0;36mspmatrix.mean\u001b[0;34m(self, axis, dtype, out)\u001b[0m\n\u001b[1;32m   1189\u001b[0m \u001b[38;5;66;03m# axis = 0 or 1 now\u001b[39;00m\n\u001b[1;32m   1190\u001b[0m \u001b[38;5;28;01mif\u001b[39;00m axis \u001b[38;5;241m==\u001b[39m \u001b[38;5;241m0\u001b[39m:\n\u001b[0;32m-> 1191\u001b[0m     \u001b[38;5;28;01mreturn\u001b[39;00m (inter_self \u001b[38;5;241m*\u001b[39m (\u001b[38;5;241;43m1.0\u001b[39;49m\u001b[43m \u001b[49m\u001b[38;5;241;43m/\u001b[39;49m\u001b[43m \u001b[49m\u001b[38;5;28;43mself\u001b[39;49m\u001b[38;5;241;43m.\u001b[39;49m\u001b[43mshape\u001b[49m\u001b[43m[\u001b[49m\u001b[38;5;241;43m0\u001b[39;49m\u001b[43m]\u001b[49m))\u001b[38;5;241m.\u001b[39msum(\n\u001b[1;32m   1192\u001b[0m         axis\u001b[38;5;241m=\u001b[39m\u001b[38;5;241m0\u001b[39m, dtype\u001b[38;5;241m=\u001b[39mres_dtype, out\u001b[38;5;241m=\u001b[39mout)\n\u001b[1;32m   1193\u001b[0m \u001b[38;5;28;01melse\u001b[39;00m:\n\u001b[1;32m   1194\u001b[0m     \u001b[38;5;28;01mreturn\u001b[39;00m (inter_self \u001b[38;5;241m*\u001b[39m (\u001b[38;5;241m1.0\u001b[39m \u001b[38;5;241m/\u001b[39m \u001b[38;5;28mself\u001b[39m\u001b[38;5;241m.\u001b[39mshape[\u001b[38;5;241m1\u001b[39m]))\u001b[38;5;241m.\u001b[39msum(\n\u001b[1;32m   1195\u001b[0m         axis\u001b[38;5;241m=\u001b[39m\u001b[38;5;241m1\u001b[39m, dtype\u001b[38;5;241m=\u001b[39mres_dtype, out\u001b[38;5;241m=\u001b[39mout)\n",
      "\u001b[0;31mZeroDivisionError\u001b[0m: float division by zero"
     ]
    }
   ],
   "source": [
    "n1 = 'pl_Neoblast: 0' #cell type ID from organism 1 (must be present in `sam1.adata.obs[k1]`)\n",
    "n2 = 'sc_Neoblast' #cell type ID from organism 2 (must be present in `sam2.adata.obs[k1]`)\n",
    "Gp,G1,G2,pvals1,pvals2 = gpf.find_genes(n1,n2)\n",
    "#Gp are the gene pairs, G1 are the genes from organism 1, G2 are the genes from organism 2,\n",
    "#pvals1 are p-values from organism 1, and pvals2 are p-values from organism 2.\n"
   ]
  },
  {
   "cell_type": "code",
   "execution_count": 47,
   "id": "a9f69aa6-7a69-4a41-a06c-f8ae7a34e7a1",
   "metadata": {},
   "outputs": [
    {
     "ename": "NameError",
     "evalue": "name 'Gp' is not defined",
     "output_type": "error",
     "traceback": [
      "\u001b[0;31m---------------------------------------------------------------------------\u001b[0m",
      "\u001b[0;31mNameError\u001b[0m                                 Traceback (most recent call last)",
      "Cell \u001b[0;32mIn[47], line 1\u001b[0m\n\u001b[0;32m----> 1\u001b[0m \u001b[43mGp\u001b[49m[:\u001b[38;5;241m5\u001b[39m],G1[:\u001b[38;5;241m5\u001b[39m],G2[:\u001b[38;5;241m5\u001b[39m],pvals1[:\u001b[38;5;241m5\u001b[39m],pvals2[:\u001b[38;5;241m5\u001b[39m]\n",
      "\u001b[0;31mNameError\u001b[0m: name 'Gp' is not defined"
     ]
    }
   ],
   "source": [
    "Gp[:5],G1[:5],G2[:5],pvals1[:5],pvals2[:5]"
   ]
  },
  {
   "cell_type": "code",
   "execution_count": 48,
   "id": "8f442201-b57c-4b67-a708-858c1d2acff3",
   "metadata": {},
   "outputs": [
    {
     "ename": "IndexError",
     "evalue": "arrays used as indices must be of integer (or boolean) type",
     "output_type": "error",
     "traceback": [
      "\u001b[0;31m---------------------------------------------------------------------------\u001b[0m",
      "\u001b[0;31mIndexError\u001b[0m                                Traceback (most recent call last)",
      "Cell \u001b[0;32mIn[48], line 1\u001b[0m\n\u001b[0;32m----> 1\u001b[0m gene_pairs \u001b[38;5;241m=\u001b[39m \u001b[43mgpf\u001b[49m\u001b[38;5;241;43m.\u001b[39;49m\u001b[43mfind_all\u001b[49m\u001b[43m(\u001b[49m\u001b[43malign_thr\u001b[49m\u001b[38;5;241;43m=\u001b[39;49m\u001b[38;5;241;43m0.2\u001b[39;49m\u001b[43m)\u001b[49m\n",
      "File \u001b[0;32m/groups/tanaka/People/current/jiwang/local/anaconda3/envs/SAMap/lib/python3.9/site-packages/samap/analysis.py:681\u001b[0m, in \u001b[0;36mGenePairFinder.find_all\u001b[0;34m(self, n, align_thr, n_top, **kwargs)\u001b[0m\n\u001b[1;32m    678\u001b[0m \u001b[38;5;28;01melse\u001b[39;00m:\n\u001b[1;32m    679\u001b[0m     f \u001b[38;5;241m=\u001b[39m np\u001b[38;5;241m.\u001b[39marray([\u001b[38;5;28;01mTrue\u001b[39;00m]\u001b[38;5;241m*\u001b[39mct2\u001b[38;5;241m.\u001b[39msize)\n\u001b[0;32m--> 681\u001b[0m ct1\u001b[38;5;241m=\u001b[39m\u001b[43mct1\u001b[49m\u001b[43m[\u001b[49m\u001b[43mf\u001b[49m\u001b[43m]\u001b[49m\n\u001b[1;32m    682\u001b[0m ct2\u001b[38;5;241m=\u001b[39mct2[f]\n\u001b[1;32m    683\u001b[0m ct1,ct2 \u001b[38;5;241m=\u001b[39m np\u001b[38;5;241m.\u001b[39munique(np\u001b[38;5;241m.\u001b[39msort(np\u001b[38;5;241m.\u001b[39mvstack((ct1,ct2))\u001b[38;5;241m.\u001b[39mT,axis\u001b[38;5;241m=\u001b[39m\u001b[38;5;241m1\u001b[39m),axis\u001b[38;5;241m=\u001b[39m\u001b[38;5;241m0\u001b[39m)\u001b[38;5;241m.\u001b[39mT\n",
      "\u001b[0;31mIndexError\u001b[0m: arrays used as indices must be of integer (or boolean) type"
     ]
    }
   ],
   "source": [
    "gene_pairs = gpf.find_all(align_thr=0.2)"
   ]
  },
  {
   "cell_type": "code",
   "execution_count": 49,
   "id": "d412db15-538d-426b-aabb-8c580c4fbae4",
   "metadata": {},
   "outputs": [
    {
     "ename": "NameError",
     "evalue": "name 'gene_pairs' is not defined",
     "output_type": "error",
     "traceback": [
      "\u001b[0;31m---------------------------------------------------------------------------\u001b[0m",
      "\u001b[0;31mNameError\u001b[0m                                 Traceback (most recent call last)",
      "Cell \u001b[0;32mIn[49], line 1\u001b[0m\n\u001b[0;32m----> 1\u001b[0m \u001b[43mgene_pairs\u001b[49m\u001b[38;5;241m.\u001b[39mhead()\n",
      "\u001b[0;31mNameError\u001b[0m: name 'gene_pairs' is not defined"
     ]
    }
   ],
   "source": [
    "gene_pairs.head()"
   ]
  },
  {
   "cell_type": "code",
   "execution_count": 50,
   "id": "ed42a869-8e40-4203-9cb0-97b55cd63818",
   "metadata": {},
   "outputs": [],
   "source": [
    "gene_pairs = gpf.find_all(n='sc_Muscle', align_thr=0.2)\n"
   ]
  },
  {
   "cell_type": "code",
   "execution_count": 51,
   "id": "388c95da-5122-4e3d-8102-0bf328ee1571",
   "metadata": {},
   "outputs": [
    {
     "data": {
      "text/html": [
       "<div>\n",
       "<style scoped>\n",
       "    .dataframe tbody tr th:only-of-type {\n",
       "        vertical-align: middle;\n",
       "    }\n",
       "\n",
       "    .dataframe tbody tr th {\n",
       "        vertical-align: top;\n",
       "    }\n",
       "\n",
       "    .dataframe thead th {\n",
       "        text-align: right;\n",
       "    }\n",
       "</style>\n",
       "<table border=\"1\" class=\"dataframe\">\n",
       "  <thead>\n",
       "    <tr style=\"text-align: right;\">\n",
       "      <th></th>\n",
       "    </tr>\n",
       "  </thead>\n",
       "  <tbody>\n",
       "  </tbody>\n",
       "</table>\n",
       "</div>"
      ],
      "text/plain": [
       "Empty DataFrame\n",
       "Columns: []\n",
       "Index: []"
      ]
     },
     "execution_count": 51,
     "metadata": {},
     "output_type": "execute_result"
    }
   ],
   "source": [
    "gene_pairs.head()"
   ]
  },
  {
   "cell_type": "code",
   "execution_count": null,
   "id": "7a2f585d-dc0a-4cbb-b221-41e45adf90f1",
   "metadata": {},
   "outputs": [],
   "source": []
  }
 ],
 "metadata": {
  "kernelspec": {
   "display_name": "SAMap",
   "language": "python",
   "name": "samap"
  },
  "language_info": {
   "codemirror_mode": {
    "name": "ipython",
    "version": 3
   },
   "file_extension": ".py",
   "mimetype": "text/x-python",
   "name": "python",
   "nbconvert_exporter": "python",
   "pygments_lexer": "ipython3",
   "version": "3.9.20"
  }
 },
 "nbformat": 4,
 "nbformat_minor": 5
}
