{
 "cells": [
  {
   "cell_type": "code",
   "execution_count": 1,
   "id": "bf8c4544",
   "metadata": {},
   "outputs": [
    {
     "name": "stderr",
     "output_type": "stream",
     "text": [
      "Global seed set to 0\n"
     ]
    }
   ],
   "source": [
    "import sys\n",
    "import scanpy as sc\n",
    "import anndata as ad\n",
    "import pandas as pd\n",
    "import numpy as np\n",
    "import matplotlib.pyplot as plt\n",
    "import matplotlib as mpl\n",
    "from scipy.io import mmread\n",
    "from scipy.io import mmwrite\n",
    "from scipy.sparse import csr_matrix\n",
    "\n",
    "# solve the jax and jaxlib issue from https://github.com/google/jax/issues/5501\n",
    "import cell2location\n",
    "import scvi\n",
    "\n",
    "from matplotlib import rcParams\n",
    "rcParams['pdf.fonttype'] = 42 # enables correct plotting of text\n",
    "import seaborn as sns\n"
   ]
  },
  {
   "cell_type": "code",
   "execution_count": 2,
   "id": "5ff91a45",
   "metadata": {},
   "outputs": [],
   "source": [
    "results_folder = '../results/visium_axolotl_R12830_resequenced_20220308/cell2location_subtype_out'\n",
    "\n",
    "# create paths and names to results folders for reference regression and cell2location models\n",
    "ref_run_name = f'{results_folder}/reference_signatures'\n",
    "run_name = f'{results_folder}/cell2location_map'\n"
   ]
  },
  {
   "cell_type": "markdown",
   "id": "66eaa393",
   "metadata": {},
   "source": [
    "# Start to process snRNA-seq and prepare the gene signature"
   ]
  },
  {
   "cell_type": "code",
   "execution_count": null,
   "id": "8249982a",
   "metadata": {},
   "outputs": [],
   "source": [
    "original_counts = np.round(csr_matrix(mmread(\"../data/snRNAseq_countMatrix.mtx\")))\n"
   ]
  },
  {
   "cell_type": "code",
   "execution_count": null,
   "id": "c55d834d",
   "metadata": {},
   "outputs": [],
   "source": [
    "original_counts"
   ]
  },
  {
   "cell_type": "code",
   "execution_count": null,
   "id": "fe3705d2",
   "metadata": {},
   "outputs": [],
   "source": [
    "original_meta = pd.read_csv(\"../data/snRNAseq_countMatrix_metadata.csv\", index_col = 0)\n",
    "original_meta"
   ]
  },
  {
   "cell_type": "code",
   "execution_count": null,
   "id": "16b9e414",
   "metadata": {},
   "outputs": [],
   "source": [
    "original_genes = pd.read_csv(\"../data/snRNAseq_countMatrix_gene.csv\", index_col = 0)\n",
    "original_genes"
   ]
  },
  {
   "cell_type": "code",
   "execution_count": null,
   "id": "1c6bf9de",
   "metadata": {},
   "outputs": [],
   "source": [
    "adata_ref = ad.AnnData(original_counts, obs=original_meta, var = original_genes)"
   ]
  },
  {
   "cell_type": "code",
   "execution_count": null,
   "id": "85433fc7",
   "metadata": {},
   "outputs": [],
   "source": [
    "adata_ref\n",
    "adata_ref.to_df() # double check if the cell barcodes and gene names are correct "
   ]
  },
  {
   "cell_type": "code",
   "execution_count": null,
   "id": "5fb68fb1",
   "metadata": {},
   "outputs": [],
   "source": [
    "# filtering \n",
    "# pal_data = pal_data[pal_data.obs.cellclusters!=\"glut_SUBSET_23\",]"
   ]
  },
  {
   "cell_type": "code",
   "execution_count": null,
   "id": "08356bdb",
   "metadata": {},
   "outputs": [],
   "source": [
    "from cell2location.utils.filtering import filter_genes\n",
    "selected = filter_genes(adata_ref, cell_count_cutoff=5, cell_percentage_cutoff2=0.03, nonz_mean_cutoff=1.12)\n",
    "\n",
    "# filter the object\n",
    "adata_ref = adata_ref[:, selected].copy()\n"
   ]
  },
  {
   "cell_type": "code",
   "execution_count": null,
   "id": "de98e830",
   "metadata": {},
   "outputs": [],
   "source": [
    "adata_ref"
   ]
  },
  {
   "cell_type": "code",
   "execution_count": null,
   "id": "68832d1c",
   "metadata": {},
   "outputs": [],
   "source": [
    "# prepare anndata for the regression model\n",
    "cell2location.models.RegressionModel.setup_anndata(adata=adata_ref,\n",
    "                        # 10X reaction / sample / batch\n",
    "                        batch_key=None,\n",
    "                        # cell type, covariate used for constructing signatures\n",
    "                        labels_key='subtypes',\n",
    "                        # multiplicative technical effects (platform, 3' vs 5', donor effect)\n",
    "                        categorical_covariate_keys=['condition']\n",
    "                       )\n"
   ]
  },
  {
   "cell_type": "code",
   "execution_count": null,
   "id": "b58a4e3d",
   "metadata": {},
   "outputs": [],
   "source": [
    "# create the regression model\n",
    "from cell2location.models import RegressionModel\n",
    "mod = RegressionModel(adata_ref)\n",
    "\n",
    "# view anndata_setup as a sanity check\n",
    "mod.view_anndata_setup()"
   ]
  },
  {
   "cell_type": "code",
   "execution_count": null,
   "id": "fdd8b854",
   "metadata": {},
   "outputs": [],
   "source": [
    "# Use all data for training (validation not implemented yet, train_size=1)\n",
    "# takes ~ 3.5h for 175 epochs, but should increase to 200/250 epochs\n",
    "mod.train(max_epochs=250, batch_size=2500, train_size=1, lr=0.002, use_gpu=False) \n",
    "\n",
    "# plot ELBO loss history during training, removing first 20 epochs from the plot\n",
    "#mod.plot_history(20)\n",
    "\n",
    "#mod.train(max_epochs=50, use_gpu=False)\n"
   ]
  },
  {
   "cell_type": "code",
   "execution_count": null,
   "id": "08849faf",
   "metadata": {},
   "outputs": [],
   "source": [
    "# plot ELBO loss history during training, removing first 20 epochs from the plot\n",
    "mod.plot_history(20)\n"
   ]
  },
  {
   "cell_type": "code",
   "execution_count": null,
   "id": "1e092456",
   "metadata": {},
   "outputs": [],
   "source": [
    "# In this section, we export the estimated cell abundance (summary of the posterior distribution).\n",
    "adata_ref = mod.export_posterior(\n",
    "    adata_ref, sample_kwargs={'num_samples': 1000, 'batch_size': 2500, 'use_gpu': False}\n",
    ")\n",
    "\n",
    "# Save model\n",
    "mod.save(f\"{ref_run_name}\", overwrite=True)\n",
    "\n",
    "# Save anndata object with results\n",
    "adata_file = f\"{ref_run_name}/sc_subtypes_v1.h5ad\"\n",
    "adata_ref.write(adata_file)\n",
    "adata_file"
   ]
  },
  {
   "cell_type": "code",
   "execution_count": null,
   "id": "9275a371",
   "metadata": {},
   "outputs": [],
   "source": []
  },
  {
   "cell_type": "markdown",
   "id": "47d8d84c",
   "metadata": {},
   "source": [
    "# Reload the process snRNA-seq and model "
   ]
  },
  {
   "cell_type": "code",
   "execution_count": 4,
   "id": "aba11295",
   "metadata": {},
   "outputs": [
    {
     "ename": "OSError",
     "evalue": "Unable to open file (truncated file: eof = 1047789568, sblock->base_addr = 0, stored_eof = 1048267416)",
     "output_type": "error",
     "traceback": [
      "\u001b[0;31m---------------------------------------------------------------------------\u001b[0m",
      "\u001b[0;31mOSError\u001b[0m                                   Traceback (most recent call last)",
      "Input \u001b[0;32mIn [4]\u001b[0m, in \u001b[0;36m<cell line: 5>\u001b[0;34m()\u001b[0m\n\u001b[1;32m      1\u001b[0m \u001b[38;5;66;03m# The model and output h5ad can be loaded later like this if needed\u001b[39;00m\n\u001b[1;32m      2\u001b[0m \u001b[38;5;66;03m#ref_run_name = \"/Volumes/groups/tanaka/People/current/jiwang/projects/heart_regeneration/results/visium_axolotl_R12830_resequenced_20220308/cell2location_coarse_out/reference_signatures/\"\u001b[39;00m\n\u001b[1;32m      4\u001b[0m adata_file \u001b[38;5;241m=\u001b[39m \u001b[38;5;124mf\u001b[39m\u001b[38;5;124m\"\u001b[39m\u001b[38;5;132;01m{\u001b[39;00mref_run_name\u001b[38;5;132;01m}\u001b[39;00m\u001b[38;5;124m/sc_subtypes_v1.h5ad\u001b[39m\u001b[38;5;124m\"\u001b[39m\n\u001b[0;32m----> 5\u001b[0m adata_ref \u001b[38;5;241m=\u001b[39m \u001b[43msc\u001b[49m\u001b[38;5;241;43m.\u001b[39;49m\u001b[43mread_h5ad\u001b[49m\u001b[43m(\u001b[49m\u001b[43madata_file\u001b[49m\u001b[43m)\u001b[49m\n",
      "File \u001b[0;32m~/anaconda3/envs/cell2loc_3.10/lib/python3.10/site-packages/anndata/_io/h5ad.py:224\u001b[0m, in \u001b[0;36mread_h5ad\u001b[0;34m(filename, backed, as_sparse, as_sparse_fmt, chunk_size)\u001b[0m\n\u001b[1;32m    216\u001b[0m         \u001b[38;5;28;01mraise\u001b[39;00m \u001b[38;5;167;01mNotImplementedError\u001b[39;00m(\n\u001b[1;32m    217\u001b[0m             \u001b[38;5;124m\"\u001b[39m\u001b[38;5;124mCurrently only `X` and `raw/X` can be read as sparse.\u001b[39m\u001b[38;5;124m\"\u001b[39m\n\u001b[1;32m    218\u001b[0m         )\n\u001b[1;32m    220\u001b[0m rdasp \u001b[38;5;241m=\u001b[39m partial(\n\u001b[1;32m    221\u001b[0m     read_dense_as_sparse, sparse_format\u001b[38;5;241m=\u001b[39mas_sparse_fmt, axis_chunk\u001b[38;5;241m=\u001b[39mchunk_size\n\u001b[1;32m    222\u001b[0m )\n\u001b[0;32m--> 224\u001b[0m \u001b[38;5;28;01mwith\u001b[39;00m \u001b[43mh5py\u001b[49m\u001b[38;5;241;43m.\u001b[39;49m\u001b[43mFile\u001b[49m\u001b[43m(\u001b[49m\u001b[43mfilename\u001b[49m\u001b[43m,\u001b[49m\u001b[43m \u001b[49m\u001b[38;5;124;43m\"\u001b[39;49m\u001b[38;5;124;43mr\u001b[39;49m\u001b[38;5;124;43m\"\u001b[39;49m\u001b[43m)\u001b[49m \u001b[38;5;28;01mas\u001b[39;00m f:\n\u001b[1;32m    225\u001b[0m     d \u001b[38;5;241m=\u001b[39m {}\n\u001b[1;32m    226\u001b[0m     \u001b[38;5;28;01mfor\u001b[39;00m k \u001b[38;5;129;01min\u001b[39;00m f\u001b[38;5;241m.\u001b[39mkeys():\n\u001b[1;32m    227\u001b[0m         \u001b[38;5;66;03m# Backwards compat for old raw\u001b[39;00m\n",
      "File \u001b[0;32m~/anaconda3/envs/cell2loc_3.10/lib/python3.10/site-packages/h5py/_hl/files.py:533\u001b[0m, in \u001b[0;36mFile.__init__\u001b[0;34m(self, name, mode, driver, libver, userblock_size, swmr, rdcc_nslots, rdcc_nbytes, rdcc_w0, track_order, fs_strategy, fs_persist, fs_threshold, fs_page_size, page_buf_size, min_meta_keep, min_raw_keep, locking, alignment_threshold, alignment_interval, **kwds)\u001b[0m\n\u001b[1;32m    525\u001b[0m     fapl \u001b[38;5;241m=\u001b[39m make_fapl(driver, libver, rdcc_nslots, rdcc_nbytes, rdcc_w0,\n\u001b[1;32m    526\u001b[0m                      locking, page_buf_size, min_meta_keep, min_raw_keep,\n\u001b[1;32m    527\u001b[0m                      alignment_threshold\u001b[38;5;241m=\u001b[39malignment_threshold,\n\u001b[1;32m    528\u001b[0m                      alignment_interval\u001b[38;5;241m=\u001b[39malignment_interval,\n\u001b[1;32m    529\u001b[0m                      \u001b[38;5;241m*\u001b[39m\u001b[38;5;241m*\u001b[39mkwds)\n\u001b[1;32m    530\u001b[0m     fcpl \u001b[38;5;241m=\u001b[39m make_fcpl(track_order\u001b[38;5;241m=\u001b[39mtrack_order, fs_strategy\u001b[38;5;241m=\u001b[39mfs_strategy,\n\u001b[1;32m    531\u001b[0m                      fs_persist\u001b[38;5;241m=\u001b[39mfs_persist, fs_threshold\u001b[38;5;241m=\u001b[39mfs_threshold,\n\u001b[1;32m    532\u001b[0m                      fs_page_size\u001b[38;5;241m=\u001b[39mfs_page_size)\n\u001b[0;32m--> 533\u001b[0m     fid \u001b[38;5;241m=\u001b[39m \u001b[43mmake_fid\u001b[49m\u001b[43m(\u001b[49m\u001b[43mname\u001b[49m\u001b[43m,\u001b[49m\u001b[43m \u001b[49m\u001b[43mmode\u001b[49m\u001b[43m,\u001b[49m\u001b[43m \u001b[49m\u001b[43muserblock_size\u001b[49m\u001b[43m,\u001b[49m\u001b[43m \u001b[49m\u001b[43mfapl\u001b[49m\u001b[43m,\u001b[49m\u001b[43m \u001b[49m\u001b[43mfcpl\u001b[49m\u001b[43m,\u001b[49m\u001b[43m \u001b[49m\u001b[43mswmr\u001b[49m\u001b[38;5;241;43m=\u001b[39;49m\u001b[43mswmr\u001b[49m\u001b[43m)\u001b[49m\n\u001b[1;32m    535\u001b[0m \u001b[38;5;28;01mif\u001b[39;00m \u001b[38;5;28misinstance\u001b[39m(libver, \u001b[38;5;28mtuple\u001b[39m):\n\u001b[1;32m    536\u001b[0m     \u001b[38;5;28mself\u001b[39m\u001b[38;5;241m.\u001b[39m_libver \u001b[38;5;241m=\u001b[39m libver\n",
      "File \u001b[0;32m~/anaconda3/envs/cell2loc_3.10/lib/python3.10/site-packages/h5py/_hl/files.py:226\u001b[0m, in \u001b[0;36mmake_fid\u001b[0;34m(name, mode, userblock_size, fapl, fcpl, swmr)\u001b[0m\n\u001b[1;32m    224\u001b[0m     \u001b[38;5;28;01mif\u001b[39;00m swmr \u001b[38;5;129;01mand\u001b[39;00m swmr_support:\n\u001b[1;32m    225\u001b[0m         flags \u001b[38;5;241m|\u001b[39m\u001b[38;5;241m=\u001b[39m h5f\u001b[38;5;241m.\u001b[39mACC_SWMR_READ\n\u001b[0;32m--> 226\u001b[0m     fid \u001b[38;5;241m=\u001b[39m \u001b[43mh5f\u001b[49m\u001b[38;5;241;43m.\u001b[39;49m\u001b[43mopen\u001b[49m\u001b[43m(\u001b[49m\u001b[43mname\u001b[49m\u001b[43m,\u001b[49m\u001b[43m \u001b[49m\u001b[43mflags\u001b[49m\u001b[43m,\u001b[49m\u001b[43m \u001b[49m\u001b[43mfapl\u001b[49m\u001b[38;5;241;43m=\u001b[39;49m\u001b[43mfapl\u001b[49m\u001b[43m)\u001b[49m\n\u001b[1;32m    227\u001b[0m \u001b[38;5;28;01melif\u001b[39;00m mode \u001b[38;5;241m==\u001b[39m \u001b[38;5;124m'\u001b[39m\u001b[38;5;124mr+\u001b[39m\u001b[38;5;124m'\u001b[39m:\n\u001b[1;32m    228\u001b[0m     fid \u001b[38;5;241m=\u001b[39m h5f\u001b[38;5;241m.\u001b[39mopen(name, h5f\u001b[38;5;241m.\u001b[39mACC_RDWR, fapl\u001b[38;5;241m=\u001b[39mfapl)\n",
      "File \u001b[0;32mh5py/_objects.pyx:54\u001b[0m, in \u001b[0;36mh5py._objects.with_phil.wrapper\u001b[0;34m()\u001b[0m\n",
      "File \u001b[0;32mh5py/_objects.pyx:55\u001b[0m, in \u001b[0;36mh5py._objects.with_phil.wrapper\u001b[0;34m()\u001b[0m\n",
      "File \u001b[0;32mh5py/h5f.pyx:106\u001b[0m, in \u001b[0;36mh5py.h5f.open\u001b[0;34m()\u001b[0m\n",
      "\u001b[0;31mOSError\u001b[0m: Unable to open file (truncated file: eof = 1047789568, sblock->base_addr = 0, stored_eof = 1048267416)"
     ]
    }
   ],
   "source": [
    "# The model and output h5ad can be loaded later like this if needed\n",
    "#ref_run_name = \"/Volumes/groups/tanaka/People/current/jiwang/projects/heart_regeneration/results/visium_axolotl_R12830_resequenced_20220308/cell2location_coarse_out/reference_signatures/\"\n",
    "\n",
    "adata_file = f\"{ref_run_name}/sc_subtypes_v1.h5ad\"\n",
    "adata_ref = sc.read_h5ad(adata_file)"
   ]
  },
  {
   "cell_type": "code",
   "execution_count": null,
   "id": "b2615142",
   "metadata": {},
   "outputs": [],
   "source": [
    "mod.plot_QC()\n"
   ]
  },
  {
   "cell_type": "code",
   "execution_count": null,
   "id": "df154d57",
   "metadata": {},
   "outputs": [],
   "source": []
  },
  {
   "cell_type": "code",
   "execution_count": null,
   "id": "b4f79e7f",
   "metadata": {},
   "outputs": [],
   "source": []
  },
  {
   "cell_type": "code",
   "execution_count": null,
   "id": "c719c0ae",
   "metadata": {},
   "outputs": [],
   "source": [
    "mod = cell2location.models.RegressionModel.load(f\"{ref_run_name}\", adata_ref)"
   ]
  },
  {
   "cell_type": "code",
   "execution_count": null,
   "id": "b2f9798c",
   "metadata": {},
   "outputs": [],
   "source": [
    "# export estimated expression in each cluster\n",
    "if 'means_per_cluster_mu_fg' in adata_ref.varm.keys():\n",
    "    inf_aver = adata_ref.varm['means_per_cluster_mu_fg'][[f'means_per_cluster_mu_fg_{i}'\n",
    "                                    for i in adata_ref.uns['mod']['factor_names']]].copy()\n",
    "else:\n",
    "    inf_aver = adata_ref.var[[f'means_per_cluster_mu_fg_{i}'\n",
    "                                    for i in adata_ref.uns['mod']['factor_names']]].copy()\n",
    "inf_aver.columns = adata_ref.uns['mod']['factor_names']\n",
    "inf_aver.iloc[0:5, 0:5]"
   ]
  },
  {
   "cell_type": "code",
   "execution_count": null,
   "id": "ae0162c0",
   "metadata": {},
   "outputs": [],
   "source": [
    "# load visium data \n",
    "vis = sc.read_loom(\"../data/processed/D1_113_sub_b.loom\")\n"
   ]
  },
  {
   "cell_type": "code",
   "execution_count": null,
   "id": "8960378c",
   "metadata": {},
   "outputs": [],
   "source": [
    "vis.X = np.round(vis.X)"
   ]
  }
 ],
 "metadata": {
  "kernelspec": {
   "display_name": "Environment (cell2loc_env)",
   "language": "python",
   "name": "cell2loc_env"
  },
  "language_info": {
   "codemirror_mode": {
    "name": "ipython",
    "version": 3
   },
   "file_extension": ".py",
   "mimetype": "text/x-python",
   "name": "python",
   "nbconvert_exporter": "python",
   "pygments_lexer": "ipython3",
   "version": "3.10.4"
  }
 },
 "nbformat": 4,
 "nbformat_minor": 5
}
