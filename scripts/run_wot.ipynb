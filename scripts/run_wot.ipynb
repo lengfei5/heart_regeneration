{
 "cells": [
  {
   "cell_type": "code",
   "execution_count": 3,
   "id": "2ee26f5d",
   "metadata": {},
   "outputs": [],
   "source": [
    "#import ipywidgets as widgets\n",
    "import numpy as np\n",
    "import pandas as pd\n",
    "from matplotlib import pyplot as plt\n",
    "\n",
    "import wot"
   ]
  },
  {
   "cell_type": "code",
   "execution_count": 4,
   "id": "e14792bf",
   "metadata": {},
   "outputs": [
    {
     "ename": "AttributeError",
     "evalue": "module 'wot' has no attribute 'io'",
     "output_type": "error",
     "traceback": [
      "\u001b[0;31m---------------------------------------------------------------------------\u001b[0m",
      "\u001b[0;31mAttributeError\u001b[0m                            Traceback (most recent call last)",
      "Cell \u001b[0;32mIn[4], line 14\u001b[0m\n\u001b[1;32m     11\u001b[0m days_df \u001b[38;5;241m=\u001b[39m pd\u001b[38;5;241m.\u001b[39mread_csv(CELL_DAYS_PATH, index_col\u001b[38;5;241m=\u001b[39m\u001b[38;5;124m'\u001b[39m\u001b[38;5;124mid\u001b[39m\u001b[38;5;124m'\u001b[39m, sep\u001b[38;5;241m=\u001b[39m\u001b[38;5;124m'\u001b[39m\u001b[38;5;130;01m\\t\u001b[39;00m\u001b[38;5;124m'\u001b[39m)\n\u001b[1;32m     13\u001b[0m \u001b[38;5;66;03m# Read expression matrix, cell days, and 2-d coordinates\u001b[39;00m\n\u001b[0;32m---> 14\u001b[0m adata \u001b[38;5;241m=\u001b[39m \u001b[43mwot\u001b[49m\u001b[38;5;241;43m.\u001b[39;49m\u001b[43mio\u001b[49m\u001b[38;5;241m.\u001b[39mread_dataset(FULL_DS_PATH, obs\u001b[38;5;241m=\u001b[39m[days_df,coord_df])\n\u001b[1;32m     15\u001b[0m unique_days \u001b[38;5;241m=\u001b[39m adata\u001b[38;5;241m.\u001b[39mobs[\u001b[38;5;124m'\u001b[39m\u001b[38;5;124mday\u001b[39m\u001b[38;5;124m'\u001b[39m]\u001b[38;5;241m.\u001b[39munique()\n\u001b[1;32m     16\u001b[0m unique_days \u001b[38;5;241m=\u001b[39m unique_days[np\u001b[38;5;241m.\u001b[39misnan(unique_days) \u001b[38;5;241m==\u001b[39m \u001b[38;5;28;01mFalse\u001b[39;00m]\n",
      "\u001b[0;31mAttributeError\u001b[0m: module 'wot' has no attribute 'io'"
     ]
    }
   ],
   "source": [
    "# Path to input files\n",
    "FLE_COORDS_PATH ='data/fle_coords.txt'\n",
    "FULL_DS_PATH = 'data/ExprMatrix.h5ad'\n",
    "VAR_DS_PATH = 'data/ExprMatrix.var.genes.h5ad'\n",
    "CELL_DAYS_PATH = 'data/cell_days.txt'\n",
    "GENE_SETS_PATH = 'data/gene_sets.gmx'\n",
    "GENE_SET_SCORES_PATH = 'data/gene_set_scores.csv'\n",
    "CELL_SETS_PATH = 'data/cell_sets.gmt'\n",
    "\n",
    "coord_df = pd.read_csv(FLE_COORDS_PATH, index_col='id', sep='\\t')\n",
    "days_df = pd.read_csv(CELL_DAYS_PATH, index_col='id', sep='\\t')\n"
   ]
  },
  {
   "cell_type": "code",
   "execution_count": 10,
   "id": "f84c6a09",
   "metadata": {},
   "outputs": [
    {
     "ename": "ImportError",
     "evalue": "cannot import name 'oi' from 'wot' (/Users/jingkui.wang/anaconda3/envs/wot/lib/python3.11/site-packages/wot/__init__.py)",
     "output_type": "error",
     "traceback": [
      "\u001b[0;31m---------------------------------------------------------------------------\u001b[0m",
      "\u001b[0;31mImportError\u001b[0m                               Traceback (most recent call last)",
      "Cell \u001b[0;32mIn[10], line 1\u001b[0m\n\u001b[0;32m----> 1\u001b[0m \u001b[38;5;28;01mfrom\u001b[39;00m \u001b[38;5;21;01mwot\u001b[39;00m \u001b[38;5;28;01mimport\u001b[39;00m oi \n",
      "\u001b[0;31mImportError\u001b[0m: cannot import name 'oi' from 'wot' (/Users/jingkui.wang/anaconda3/envs/wot/lib/python3.11/site-packages/wot/__init__.py)"
     ]
    }
   ],
   "source": [
    "from wot import oi "
   ]
  },
  {
   "cell_type": "code",
   "execution_count": 6,
   "id": "614c4f0f",
   "metadata": {},
   "outputs": [
    {
     "ename": "AttributeError",
     "evalue": "module 'wot' has no attribute 'io'",
     "output_type": "error",
     "traceback": [
      "\u001b[0;31m---------------------------------------------------------------------------\u001b[0m",
      "\u001b[0;31mAttributeError\u001b[0m                            Traceback (most recent call last)",
      "Cell \u001b[0;32mIn[6], line 2\u001b[0m\n\u001b[1;32m      1\u001b[0m \u001b[38;5;66;03m# Read expression matrix, cell days, and 2-d coordinates\u001b[39;00m\n\u001b[0;32m----> 2\u001b[0m adata \u001b[38;5;241m=\u001b[39m \u001b[43mwot\u001b[49m\u001b[38;5;241;43m.\u001b[39;49m\u001b[43mio\u001b[49m\u001b[38;5;241m.\u001b[39mread_dataset(FULL_DS_PATH, obs\u001b[38;5;241m=\u001b[39m[days_df,coord_df])\n\u001b[1;32m      3\u001b[0m unique_days \u001b[38;5;241m=\u001b[39m adata\u001b[38;5;241m.\u001b[39mobs[\u001b[38;5;124m'\u001b[39m\u001b[38;5;124mday\u001b[39m\u001b[38;5;124m'\u001b[39m]\u001b[38;5;241m.\u001b[39munique()\n\u001b[1;32m      4\u001b[0m unique_days \u001b[38;5;241m=\u001b[39m unique_days[np\u001b[38;5;241m.\u001b[39misnan(unique_days) \u001b[38;5;241m==\u001b[39m \u001b[38;5;28;01mFalse\u001b[39;00m]\n",
      "\u001b[0;31mAttributeError\u001b[0m: module 'wot' has no attribute 'io'"
     ]
    }
   ],
   "source": [
    "# Read expression matrix, cell days, and 2-d coordinates\n",
    "adata = wot.io.read_dataset(FULL_DS_PATH, obs=[days_df,coord_df])\n",
    "unique_days = adata.obs['day'].unique()\n",
    "unique_days = unique_days[np.isnan(unique_days) == False]\n",
    "# plot visualization coordinates\n",
    "figure = plt.figure(figsize=(10, 10))\n",
    "plt.axis('off')\n",
    "plt.tight_layout()\n",
    "plt.scatter(adata.obs['x'], adata.obs['y'],c=adata.obs['day'],\n",
    "               s=4, marker=',', edgecolors='none', alpha=0.8)\n",
    "cb = plt.colorbar()\n",
    "cb.ax.set_title('Day')"
   ]
  },
  {
   "cell_type": "code",
   "execution_count": null,
   "id": "b359f3fb",
   "metadata": {},
   "outputs": [],
   "source": []
  },
  {
   "cell_type": "code",
   "execution_count": null,
   "id": "9172299a",
   "metadata": {},
   "outputs": [],
   "source": []
  }
 ],
 "metadata": {
  "kernelspec": {
   "display_name": "Python [conda env:wot] *",
   "language": "python",
   "name": "conda-env-wot-py"
  },
  "language_info": {
   "codemirror_mode": {
    "name": "ipython",
    "version": 3
   },
   "file_extension": ".py",
   "mimetype": "text/x-python",
   "name": "python",
   "nbconvert_exporter": "python",
   "pygments_lexer": "ipython3",
   "version": "3.11.0"
  }
 },
 "nbformat": 4,
 "nbformat_minor": 5
}
