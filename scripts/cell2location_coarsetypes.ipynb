{
 "cells": [
  {
   "cell_type": "code",
   "execution_count": null,
   "id": "bf8c4544",
   "metadata": {},
   "outputs": [],
   "source": [
    "import sys\n",
    "import scanpy as sc\n",
    "import anndata as ad\n",
    "import pandas as pd\n",
    "import numpy as np\n",
    "import matplotlib.pyplot as plt\n",
    "import matplotlib as mpl\n",
    "from scipy.io import mmread\n",
    "from scipy.io import mmwrite\n",
    "from scipy.sparse import csr_matrix\n"
   ]
  },
  {
   "cell_type": "code",
   "execution_count": null,
   "id": "5ff91a45",
   "metadata": {},
   "outputs": [],
   "source": [
    "# solve the jax and jaxlib issue from https://github.com/google/jax/issues/5501\n",
    "import cell2location\n",
    "import scvi\n",
    "\n",
    "from matplotlib import rcParams\n",
    "rcParams['pdf.fonttype'] = 42 # enables correct plotting of text\n",
    "import seaborn as sns\n"
   ]
  },
  {
   "cell_type": "code",
   "execution_count": null,
   "id": "6d7b58c5",
   "metadata": {},
   "outputs": [],
   "source": [
    "results_folder = '../results/visium_axolotl_R12830_resequenced_20220308/cell2location_coarse_out'\n",
    "\n",
    "# create paths and names to results folders for reference regression and cell2location models\n",
    "ref_run_name = f'{results_folder}/reference_signatures'\n",
    "run_name = f'{results_folder}/cell2location_map'\n"
   ]
  },
  {
   "cell_type": "code",
   "execution_count": null,
   "id": "8249982a",
   "metadata": {},
   "outputs": [],
   "source": [
    "original_counts = np.round(csr_matrix(mmread(\"../data/snRNAseq_countMatrix.mtx\")))\n"
   ]
  },
  {
   "cell_type": "code",
   "execution_count": null,
   "id": "de9b6671",
   "metadata": {},
   "outputs": [],
   "source": []
  },
  {
   "cell_type": "code",
   "execution_count": null,
   "id": "c55d834d",
   "metadata": {},
   "outputs": [],
   "source": [
    "original_counts"
   ]
  },
  {
   "cell_type": "code",
   "execution_count": null,
   "id": "fe3705d2",
   "metadata": {},
   "outputs": [],
   "source": [
    "original_meta = pd.read_csv(\"../data/snRNAseq_countMatrix_metadata.csv\", index_col = 0)\n",
    "original_meta"
   ]
  },
  {
   "cell_type": "code",
   "execution_count": null,
   "id": "16b9e414",
   "metadata": {},
   "outputs": [],
   "source": [
    "original_genes = pd.read_csv(\"../data/snRNAseq_countMatrix_gene.csv\", index_col = 0)\n",
    "original_genes"
   ]
  },
  {
   "cell_type": "code",
   "execution_count": null,
   "id": "1c6bf9de",
   "metadata": {},
   "outputs": [],
   "source": [
    "adata_ref = ad.AnnData(original_counts, obs=original_meta, var = original_genes)"
   ]
  },
  {
   "cell_type": "code",
   "execution_count": null,
   "id": "85433fc7",
   "metadata": {},
   "outputs": [],
   "source": [
    "adata_ref\n",
    "adata_ref.to_df() # double check if the cell barcodes and gene names are correct "
   ]
  },
  {
   "cell_type": "code",
   "execution_count": null,
   "id": "5fb68fb1",
   "metadata": {},
   "outputs": [],
   "source": [
    "# filtering \n",
    "# pal_data = pal_data[pal_data.obs.cellclusters!=\"glut_SUBSET_23\",]"
   ]
  },
  {
   "cell_type": "code",
   "execution_count": null,
   "id": "08356bdb",
   "metadata": {},
   "outputs": [],
   "source": [
    "from cell2location.utils.filtering import filter_genes\n",
    "selected = filter_genes(adata_ref, cell_count_cutoff=5, cell_percentage_cutoff2=0.03, nonz_mean_cutoff=1.12)\n",
    "\n",
    "# filter the object\n",
    "adata_ref = adata_ref[:, selected].copy()\n"
   ]
  },
  {
   "cell_type": "code",
   "execution_count": null,
   "id": "de98e830",
   "metadata": {},
   "outputs": [],
   "source": [
    "adata_ref"
   ]
  },
  {
   "cell_type": "code",
   "execution_count": null,
   "id": "68832d1c",
   "metadata": {},
   "outputs": [],
   "source": [
    "# prepare anndata for the regression model\n",
    "cell2location.models.RegressionModel.setup_anndata(adata=adata_ref,\n",
    "                        # 10X reaction / sample / batch\n",
    "                        batch_key=None,\n",
    "                        # cell type, covariate used for constructing signatures\n",
    "                        labels_key='celltypes',\n",
    "                        # multiplicative technical effects (platform, 3' vs 5', donor effect)\n",
    "                        categorical_covariate_keys=['condition']\n",
    "                       )\n"
   ]
  },
  {
   "cell_type": "code",
   "execution_count": null,
   "id": "b58a4e3d",
   "metadata": {},
   "outputs": [],
   "source": [
    "# create the regression model\n",
    "from cell2location.models import RegressionModel\n",
    "mod = RegressionModel(adata_ref)\n",
    "\n",
    "# view anndata_setup as a sanity check\n",
    "mod.view_anndata_setup()"
   ]
  },
  {
   "cell_type": "code",
   "execution_count": null,
   "id": "fdd8b854",
   "metadata": {},
   "outputs": [],
   "source": [
    "# Use all data for training (validation not implemented yet, train_size=1)\n",
    "# takes ~ 3.5h for 175 epochs, but should increase to 200/250 epochs\n",
    "mod.train(max_epochs=100, batch_size=2500, train_size=1, lr=0.002, use_gpu=False) \n",
    "\n",
    "# plot ELBO loss history during training, removing first 20 epochs from the plot\n",
    "#mod.plot_history(20)\n",
    "\n",
    "#mod.train(max_epochs=50, use_gpu=False)\n"
   ]
  },
  {
   "cell_type": "code",
   "execution_count": null,
   "id": "08849faf",
   "metadata": {},
   "outputs": [],
   "source": [
    "# plot ELBO loss history during training, removing first 20 epochs from the plot\n",
    "mod.plot_history(20)\n"
   ]
  },
  {
   "cell_type": "code",
   "execution_count": null,
   "id": "1e092456",
   "metadata": {},
   "outputs": [],
   "source": [
    "# In this section, we export the estimated cell abundance (summary of the posterior distribution).\n",
    "adata_ref = mod.export_posterior(\n",
    "    adata_ref, sample_kwargs={'num_samples': 1000, 'batch_size': 2500, 'use_gpu': False}\n",
    ")\n",
    "\n",
    "# Save model\n",
    "mod.save(f\"{ref_run_name}\", overwrite=True)\n",
    "\n",
    "# Save anndata object with results\n",
    "adata_file = f\"{ref_run_name}/sc_corase_celltypes_v3.h5ad\"\n",
    "adata_ref.write(adata_file)\n",
    "adata_file"
   ]
  },
  {
   "cell_type": "code",
   "execution_count": null,
   "id": "9275a371",
   "metadata": {},
   "outputs": [],
   "source": [
    "mod.plot_QC()"
   ]
  },
  {
   "cell_type": "code",
   "execution_count": null,
   "id": "46fdef11",
   "metadata": {},
   "outputs": [],
   "source": []
  },
  {
   "cell_type": "code",
   "execution_count": null,
   "id": "4ced9a0b",
   "metadata": {},
   "outputs": [],
   "source": [
    "# Reload the gene signatures and model"
   ]
  },
  {
   "cell_type": "code",
   "execution_count": null,
   "id": "df154d57",
   "metadata": {},
   "outputs": [],
   "source": [
    "# The model and output h5ad can be loaded later like this if needed\n",
    "#ref_run_name = \"/Volumes/groups/tanaka/People/current/jiwang/projects/heart_regeneration/results/visium_axolotl_R12830_resequenced_20220308/cell2location_coarse_out/reference_signatures/\"\n",
    "\n",
    "adata_file = f\"{ref_run_name}/sc_corase_celltypes_v3.h5ad\"\n",
    "adata_ref = sc.read_h5ad(adata_file)"
   ]
  },
  {
   "cell_type": "code",
   "execution_count": null,
   "id": "a3fd2b3c",
   "metadata": {},
   "outputs": [],
   "source": [
    "adata_ref"
   ]
  },
  {
   "cell_type": "code",
   "execution_count": null,
   "id": "b4f79e7f",
   "metadata": {},
   "outputs": [],
   "source": []
  },
  {
   "cell_type": "code",
   "execution_count": null,
   "id": "c719c0ae",
   "metadata": {},
   "outputs": [],
   "source": [
    "mod = cell2location.models.RegressionModel.load(f\"{ref_run_name}\", adata_ref)"
   ]
  },
  {
   "cell_type": "code",
   "execution_count": null,
   "id": "b2f9798c",
   "metadata": {},
   "outputs": [],
   "source": [
    "# export estimated expression in each cluster\n",
    "if 'means_per_cluster_mu_fg' in adata_ref.varm.keys():\n",
    "    inf_aver = adata_ref.varm['means_per_cluster_mu_fg'][[f'means_per_cluster_mu_fg_{i}'\n",
    "                                    for i in adata_ref.uns['mod']['factor_names']]].copy()\n",
    "else:\n",
    "    inf_aver = adata_ref.var[[f'means_per_cluster_mu_fg_{i}'\n",
    "                                    for i in adata_ref.uns['mod']['factor_names']]].copy()\n",
    "inf_aver.columns = adata_ref.uns['mod']['factor_names']\n",
    "inf_aver.iloc[0:5, 0:5]"
   ]
  },
  {
   "cell_type": "code",
   "execution_count": null,
   "id": "ae0162c0",
   "metadata": {},
   "outputs": [],
   "source": [
    "# load visium data \n",
    "vis = sc.read_loom(\"../data/visium_Amex_all.loom\") # all 4 slices merged\n"
   ]
  },
  {
   "cell_type": "code",
   "execution_count": null,
   "id": "8960378c",
   "metadata": {},
   "outputs": [],
   "source": [
    "vis.X = np.round(vis.X)"
   ]
  },
  {
   "cell_type": "code",
   "execution_count": null,
   "id": "9fc86408",
   "metadata": {},
   "outputs": [],
   "source": [
    "# find shared genes and subset both anndata and reference signatures\n",
    "intersect = np.intersect1d(vis.var_names, inf_aver.index)\n",
    "vis = vis[:, intersect].copy()\n",
    "inf_aver = inf_aver.loc[intersect, :].copy()\n",
    "\n"
   ]
  },
  {
   "cell_type": "code",
   "execution_count": null,
   "id": "15d4af29",
   "metadata": {},
   "outputs": [],
   "source": [
    "# prepare anndata for cell2location model\n",
    "#scvi.data.setup_anndata(adata=vis, continuous_covariate_keys = [\"nCount_Spatial\"])\n",
    "#scvi.data.view_anndata_setup(vis)\n",
    "\n",
    "# prepare anndata for cell2location model\n",
    "cell2location.models.Cell2location.setup_anndata(adata=vis, \n",
    "                                                 categorical_covariate_keys=['condition'],\n",
    "                                                 continuous_covariate_keys = [\"nCount_Spatial\"])\n"
   ]
  },
  {
   "cell_type": "code",
   "execution_count": null,
   "id": "424d6c90",
   "metadata": {},
   "outputs": [],
   "source": [
    "# create and train the model\n",
    "mod = cell2location.models.Cell2location(\n",
    "    vis, cell_state_df=inf_aver,\n",
    "    # the expected average cell abundance: tissue-dependent\n",
    "    # hyper-prior which can be estimated from paired histology:\n",
    "    N_cells_per_location=10,\n",
    "    # hyperparameter controlling normalisation of\n",
    "    # within-experiment variation in RNA detection:\n",
    "    detection_alpha=20\n",
    ")\n",
    "mod.view_anndata_setup()"
   ]
  },
  {
   "cell_type": "code",
   "execution_count": null,
   "id": "48f6faf7",
   "metadata": {},
   "outputs": [],
   "source": [
    "mod.train(max_epochs=200,\n",
    "          # train using full data (batch_size=None)\n",
    "          batch_size=None,\n",
    "          # use all data points in training because\n",
    "          # we need to estimate cell abundance at all locations\n",
    "          train_size=1,\n",
    "          use_gpu=False)"
   ]
  },
  {
   "cell_type": "code",
   "execution_count": null,
   "id": "3eb3dcaa",
   "metadata": {},
   "outputs": [],
   "source": [
    "# plot ELBO loss history during training, removing first 100 epochs from the plot\n",
    "mod.plot_history(200)\n",
    "plt.legend(labels=['full data training']);\n"
   ]
  },
  {
   "cell_type": "code",
   "execution_count": null,
   "id": "fe2a2917",
   "metadata": {},
   "outputs": [],
   "source": [
    "run_name # folder to save the result"
   ]
  },
  {
   "cell_type": "code",
   "execution_count": null,
   "id": "78c5c022",
   "metadata": {},
   "outputs": [],
   "source": [
    "# In this section, we export the estimated cell abundance (summary of the posterior distribution).\n",
    "vis = mod.export_posterior(\n",
    "    vis, sample_kwargs={'num_samples': 1000, 'batch_size': mod.adata.n_obs, 'use_gpu': False}\n",
    ")\n",
    "\n"
   ]
  },
  {
   "cell_type": "code",
   "execution_count": null,
   "id": "b42bea9e",
   "metadata": {},
   "outputs": [],
   "source": [
    "# Save model\n",
    "mod.save(f\"{run_name}\", overwrite=True)\n",
    "\n",
    "# mod = cell2location.models.Cell2location.load(f\"{run_name}\", adata_vis)\n",
    "\n",
    "# Save anndata object with results\n",
    "adata_file = f\"{run_name}/sp.h5ad\"\n",
    "vis.write(adata_file)\n",
    "adata_file"
   ]
  },
  {
   "cell_type": "code",
   "execution_count": null,
   "id": "75a70d0e",
   "metadata": {},
   "outputs": [],
   "source": [
    "# add 5% quantile, representing confident cell abundance, 'at least this amount is present',\n",
    "# to adata.obs with nice names for plotting\n",
    "vis.obs[vis.uns['mod']['factor_names']] = vis.obsm['q05_cell_abundance_w_sf']\n",
    "vis.obs.to_csv(results_folder+\"/predictions_cell2loc_v1.csv\")"
   ]
  },
  {
   "cell_type": "code",
   "execution_count": null,
   "id": "60652514",
   "metadata": {},
   "outputs": [],
   "source": [
    "mod.plot_QC()"
   ]
  },
  {
   "cell_type": "code",
   "execution_count": null,
   "id": "bba69d1b",
   "metadata": {},
   "outputs": [],
   "source": []
  }
 ],
 "metadata": {
  "kernelspec": {
   "display_name": "Environment (cell2loc_env)",
   "language": "python",
   "name": "cell2loc_env"
  },
  "language_info": {
   "codemirror_mode": {
    "name": "ipython",
    "version": 3
   },
   "file_extension": ".py",
   "mimetype": "text/x-python",
   "name": "python",
   "nbconvert_exporter": "python",
   "pygments_lexer": "ipython3",
   "version": "3.10.4"
  }
 },
 "nbformat": 4,
 "nbformat_minor": 5
}
